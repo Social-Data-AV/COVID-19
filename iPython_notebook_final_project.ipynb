{
 "cells": [
  {
   "cell_type": "markdown",
   "metadata": {},
   "source": [
    "# Final Project : The Impact of COVID - 19\n",
    "\n",
    "_Course:_ **02806 Social Data Analysis and Visualization** (DTU - Technical University of Denmark) <br>\n",
    "Project members: **_Chao Yu (s200079), Prasad Jagtap (s200109), Nazer Hdaifeh (s192592)_**"
   ]
  },
  {
   "cell_type": "markdown",
   "metadata": {},
   "source": [
    "## Table of Contents"
   ]
  },
  {
   "cell_type": "markdown",
   "metadata": {},
   "source": [
    "## 1. Motivation.\n",
    "\n",
    "For final project in Social Data Analysis & Visualization, the most open-ended specification one could possibly explore was given as a scenario to work on. Our take towards the project was something ambitious, and wanted to do something that could be easily viewable or noticable by viewers. Later, it was decided to design project around Covid-19 data because, it felt very topical being that it is the subject of the time and pretty much the only thing on all of the minds. It was imperative to offer something unique to the World that nobody seemed to be doing. Eventhough, there are lot of real-time visualization pages available already. There are rare pages talking about the _Risk & environmental factor_ or stating comparisons between the _previous outbreaks trend_. The desire to do something novel, something that would challenge us as an analyst and showcase some, out of the box ideas infront of the World which can be accessible on easily available platform without previous context.\n",
    "\n",
    "In order to follow a structure for Part-B of the project, here is link to our Part-A video of the project: [The impact of Covid-19](https://www.youtube.com/watch?v=--AMiwuPjLI)\n",
    "\n",
    "While the sources are on the front lines, reliably presenting people with vital information and helping them to stay informed on all things pertaining to this crisis, our goals are slightly different, as outlined below.\n",
    "\n",
    "**Goals:**\n",
    ">1. Use a potential data source to gain insights into the pandemic from unique contexts.\n",
    ">2. Create an overview with the topic **_Global Impact of Covid-19_** and showcase the trend of cases, deaths & recoveries with respect to certain time period.\n",
    ">3. _Risk factor & Environmental factor_ are other important things, report is focused on.\n",
    ">4. Generic trend in between previous pandemic outbreaks is supposed to be illustrated comparing the `Covid-19` data to the likelyhood of **SARS**, **H1N1** & **Ebola**."
   ]
  },
  {
   "cell_type": "markdown",
   "metadata": {},
   "source": [
    "* ####  What is your dataset?\n",
    "\n",
    "Better to talk about it once we have combined data from all of the sources."
   ]
  },
  {
   "cell_type": "markdown",
   "metadata": {},
   "source": [
    "* ####  Why did you choose this/these particular dataset(s)?\n",
    "\n",
    "Based on the available data, could be easier to write"
   ]
  },
  {
   "cell_type": "markdown",
   "metadata": {},
   "source": [
    "* ####  What was your goal for the end user's experience?\n",
    "\n",
    "While we talked about the Goals for the website, did not had a chance to take a look at the end user's perspective.\n",
    "We figured out that viewer might experience generic visualizations all over the place in the internet as there are lot of credible sources narrating the respective data story with particular genre depending upon the data availability.\n",
    "\n",
    "The end user's guide to the report can be followed in terms of **Goals** as below:\n",
    ">1. User might get a chance to use and browse an interactive website talking about the `cumulative count of cases`, `deaths` & `recoveries` on the _impact of Covid-19_.\n",
    ">2. Viewer will have multiple options to select and browse the trend of a particular country out of certain countries from the menu options with choices of `daily`, `cumulative` & `increase in percentage` for `cases` & `deaths` with certain option of _time slider_.\n",
    ">3. Viewer will get to know an idea about the `risk factor` & `environmental factor` in correlation to the Covid-19 situation.\n",
    ">4. End user can very well review and know about the previous pandemics and its trend with respect to the Covid-19 situation with multi options viewing and comparing `Daily average deathes`, `deaths`, `death rate`, `total cases` & `Countries/regions affected`."
   ]
  },
  {
   "cell_type": "markdown",
   "metadata": {},
   "source": [
    "## 2. Basic stats. Let's understand the dataset better\n",
    "\n",
    "* #### Write about your choices in data cleaning and preprocessing\n",
    "* #### Write a short section that discusses the dataset stats, containing key points/plots from your exploratory data analysis."
   ]
  },
  {
   "cell_type": "markdown",
   "metadata": {},
   "source": [
    "## 3. Data Analysis\n",
    "\n",
    "* #### Describe your data analysis and explain what you've learned about the dataset.\n",
    "* #### If relevant, talk about your machine-learning."
   ]
  },
  {
   "cell_type": "markdown",
   "metadata": {},
   "source": [
    "## 4. Genre. Which genre of data story did you use?\n",
    "\n",
    "Storytelling strategies vary among genre. Genre vary primarily in terms of; \n",
    ">* The distinct visual scenes, multiplexed in time and/or space that the number of frames contains. \n",
    ">* The order of visual elements.\n",
    "\n",
    "Genres are not mutually exclusive, they can function combining to produce more complex visual genres. different genres work better for different story types. Choosing the appropriate genre depends on a variety of factors, including the complexity of the data, the complexity of the story, the intended audience, and the intended medium.\n",
    "\n",
    "The genre of data story identified in the report is `Annotated Graph/Map` within the `Slide Show` format.\n",
    "There are other genre the report has been able to cover along with the help of precised data. The data story is initiated from the annotated pattern covering the slide in frames divided in certain time period as shown in the website.  "
   ]
  },
  {
   "cell_type": "markdown",
   "metadata": {},
   "source": [
    "* #### Which tools did you use from each of the 3 categories of _Visual Narrative_ (Figure 7 in Segal and Heer). Why?\n",
    "\n",
    "One of the design space dimensions is _Visual Narrative_ tactics. There is always some inevitable subjectivity when\n",
    "imposing a taxonomy over a diverse set of designs. While working on the report, _Visual Structuring_ & _Highlighting_ tools seems to be leveraged out of the categories of Visual Narrative tactics. \n",
    "\n",
    "> _Visual structuring_ refers to mechanisms that communicate the overall structure of the narrative to the viewer and allow him to identify his position within the larger organization of the visualization. \n",
    "\n",
    "Since the outcome of the narrative is oriented with respect to viewer, _Visual structuring_ design strategy helps viewer visualize the `consistent visual platform` and allow them to track progress through the visualization using `timeline slider` as in the World Map from website showing distinct characteristics at different timeline.  \n",
    "\n",
    "> _Highlighting_ refers to visual mechanisms that help direct the viewer’s attention to particular elements in the display.\n",
    "\n",
    "_Highlighting_ in the report is achieved through the `use of color`, `framing` & `sizing`, which augment the salience of an element relative to its surroundings.\n",
    "\n",
    "Following the round-about structure of the visual narrative, the viewer might be able to model the visualization to conceive the details-on-demand and acknowledge the patterns to view the information using the timeline slider as can be done in the map from the website."
   ]
  },
  {
   "cell_type": "markdown",
   "metadata": {},
   "source": [
    "* #### Which tools did you use from each of the 3 categories of _Narrative Structure_ (Figure 7 in Segal and Heer). Why?\n",
    "\n",
    "Another design space dimension is _Narrative Structure_ tactics, used by visualization, or non-visual mechanisms facilitates the narrative. This division is classified in three sections out of which _interactivity_ & _messaging_ genre constitutes the report in terms of the tools used. \n",
    "\n",
    "> _Interactivity_ refers to the different ways a user can manipulate the visualization like `filtering`, `selecting`, `searching`, `navigating` and also how the user learns the methods such as explicit instruction, tacit tutorial, initial configuration.\n",
    "\n",
    "_Interactivity_ is achieved in the report based on the custom options the viewer can leverage while visualizing any particular graph or a chart. For instance, it would be helpful for viewer to use a dropdown menu or a radio button specifying the cases/  deaths or recoveries with the help of time bar in order to check the status per country with respect to time period as illustrated in the website. \n",
    "\n",
    "> _Messaging_ refers to the ways a visualization communicates observations and commentary to the viewer. This might be achieved\n",
    "through short text fields such as `labels`, `captions`, `headlines`, `annotations` or more substantial descriptions like articles, introductions, summaries.\n",
    "\n",
    "_Messaging_ is another important tool when it comes to the _Narrative Structure_. The viewer is able to visualize and fetch relevant data from the labels and annotations while hovering certain plots. Brief introductions and summaries are although size consuming and tend to be lesser interactive but it contains viable information supporting and referring the plots. "
   ]
  },
  {
   "cell_type": "markdown",
   "metadata": {},
   "source": [
    "## 5. Visualizations.\n",
    "\n",
    "_Visualization_ is the graphic representation of data. It involves producing images that communicate relationships among the represented data to viewers of the images. This communication is achieved through the use of a systematic mapping between graphic marks and data values in the creation of the visualization. This mapping establishes how data values will be represented visually, determining how and to what extent a property of a graphic mark, such as size or color, will change to reflect changes in the value of a datum [Wiki](https://en.wikipedia.org/wiki/Data_visualization) "
   ]
  },
  {
   "cell_type": "markdown",
   "metadata": {},
   "source": [
    "* #### Explain the visualizations you've chosen.\n",
    "\n",
    "   1. The global Impact of Covid-19 (choropleth map)\n",
    ">* The global impact of Covid-19 is a world map in form of annotated genre, visualized in order to let viewer interpret and come across the count of `Cases`, `deaths` & `recoveries` with respect to all the countries around the Globe.\n",
    ">* The menu is briefly classified in 3 types; `confirmed cases`, `confirmed deaths` & `confirmed recoveries`.\n",
    ">* Each multi menu option like Cases, deaths & recoveries are featured in different set of colors such as `Blues`, `Reds` &` Greens` respectively.\n",
    ">* The classified menu is selected in terms of dropdown in the notebook and can be selected in terms of radio buttons while referring website.\n",
    ">* The attributes of the choropleth map from the notebook & website version has count stored accordingly with the country code and country plotted in a Geo-map and could be easily browsed once hovering the cursor. \n",
    ">* Another add-on pulled over in a website version of map employees the timeline slider in order to select and view the country data with respect to the time period.\n",
    "\n",
    "   2. Epidemic trend (Line Graph)\n",
    ">* Another version of data for cases & deaths with respect to specified countries is shown in the menu option of the website.\n",
    ">* The line graph is constructed in order to precisely review the pattern of the cases and deaths in the countries with respect to its timeline.\n",
    ">* The radio buttons are provided to feature a line chart with respect to `daily`, `cumulative` or `increase in percentage`.\n",
    ">* A timebar is provided for browsing the data pattern of cases or deaths in particular time period for a selected country.\n",
    ">* Cases are illustrated in reds where deaths are drawn in silver color for marking epidemic trend. \n",
    "\n",
    "   3. Outbreaks Comparisons (Bar Graph)\n",
    ">* The Bar chart is depicted comparing the trend previous major pandemics followed. The graph shows a toggle/radio buttons feature to jump upon `Death rate`, `Deaths`, `Cases` & `cumulative count of the countries affected`.  \n",
    ">* Each menu option illustrates a feature plot for _Diseases vs Amount_. The focused diseases are **SARS, H1N1, Ebola** and **Covid-19**.\n",
    ">* The visualization style for the bar graph is a basic annotated chart with count depicted for the diseases and brief comparison between the trend of the pandemic then and now.\n",
    "   "
   ]
  },
  {
   "cell_type": "markdown",
   "metadata": {},
   "source": [
    "* #### Why are they right for the story you want to tell?\n",
    "\n",
    "The motivation of the report revolves around the specifics of the Covid-19. The Global Impact is huge and has made a  tremendous difference across the World. The value, report is trying to create is by sharing the important aspect of showcasing the current and latest Global Impact .\n",
    "\n",
    ">* **The global impact of Covid-19** is used to visualize the count of Confirmed Cases, confirmed deaths & confirmed recoveries for distinct countries across the World.\n",
    ">* **Epidemic trend** is useful in terms to precisely rectify the hidden pattern, count of cases, deaths or deaths rate could return with respect to daily,cumulative and increase in percentage behaviour.\n",
    ">* **Outbreak comparison** is an essential tool being part of the report which can be used to analyse and depict the trend of the pandemics in past. Analysis from the website data such as  - _Covid-19 is less deadly than either SARS or Ebola but higher than H1N1_ can be formulated from the bar graph with existing data.  \n",
    "\n"
   ]
  },
  {
   "cell_type": "markdown",
   "metadata": {},
   "source": [
    "## 6. Discussion. Think critically about your creation\n",
    "\n",
    "* #### What went well?\n",
    "\n",
    " >* We overviewed the **_global impact of covid-19_** through our `anotated style` within `slide show` visulization.\n",
    " >* Based on our dataset, we analyzed how the _environmental factors affect the spread of the Covid-19, followed by a multilinear regression_. The statistic evidence tells that **temperature and humidity play an important role in the model**.\n",
    " >* The preliminary comparisons in form of outbreaks comparison among diseases was carried out to find more features of coronavirus model with respect to the previous trend of pandemics such as **SARS, H1N1 & Ebola**."
   ]
  },
  {
   "cell_type": "markdown",
   "metadata": {},
   "source": [
    "* #### What is still missing? What could be improved?, Why?\n",
    "\n",
    "Due to the limit of dataset availabity, some analysis were made based on small datasets, which could affect the result partially. To narrow down the bias of the analysis, many citations were used to prove our opionions.\n",
    "\n",
    "Further study might include below terms:\n",
    ">* A **logistic regression** can be made to figure out the probability of a man getting infected based on his `sex`,`age`,`medical history` or `living habits`. However, this study need a _plenty of data_ and advanced _machine learning_ methods.\n",
    "\n",
    ">* As for the environmental factor, a further study can be carried out to find out under which circumstance the virus is the least active."
   ]
  },
  {
   "cell_type": "markdown",
   "metadata": {},
   "source": [
    "## 7. Contributions. Who did what?\n",
    "\n",
    "* #### You should write (just briefly) which group member was the main responsible for which elements of the assignment. (I want you guys to understand every part of the assignment, but usually there is someone who took lead role on certain portions of the work. That's what you should explain).\n",
    "* #### It is not OK simply to write \"All group members contributed equally\"."
   ]
  }
 ],
 "metadata": {
  "kernelspec": {
   "display_name": "Python 3",
   "language": "python",
   "name": "python3"
  },
  "language_info": {
   "codemirror_mode": {
    "name": "ipython",
    "version": 3
   },
   "file_extension": ".py",
   "mimetype": "text/x-python",
   "name": "python",
   "nbconvert_exporter": "python",
   "pygments_lexer": "ipython3",
   "version": "3.7.3"
  }
 },
 "nbformat": 4,
 "nbformat_minor": 2
}
