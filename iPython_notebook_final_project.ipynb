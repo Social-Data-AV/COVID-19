{
 "cells": [
  {
   "cell_type": "markdown",
   "metadata": {},
   "source": [
    "# Final Project : The Impact of COVID - 19\n",
    "\n",
    "_Course:_ **02806 Social Data Analysis and Visualization** (DTU - Technical University of Denmark) <br>\n",
    "Project members: **_Chao Yu (s200079), Prasad Jagtap (s200109), Nazer Hdaifeh (s192592)_**"
   ]
  },
  {
   "cell_type": "markdown",
   "metadata": {},
   "source": [
    "## Table of Contents"
   ]
  },
  {
   "cell_type": "markdown",
   "metadata": {},
   "source": [
    "## 1. Motivation.\n",
    "\n",
    "For final project in Social Data Analysis & Visualization, the most open-ended specification one could possibly explore was given as a scenario to work on. Our take towards the project was something ambitious, and wanted to do something that could be easily viewable or noticable by viewers. Later, it was decided to design project around Covid-19 data because, it felt very topical being that it is the subject of the time and pretty much the only thing on all of the minds. It was imperative to offer something unique to the World that nobody seemed to be doing. Eventhough, there are lot of real-time visualization pages available already. There are rare pages talking about the _Risk & environmental factor_ or stating comparisons between the _previous outbreaks trend_. The desire to do something novel, something that would challenge us as an analyst and showcase some, out of the box ideas infront of the World which can be accessible on easily available platform without previous context.\n",
    "\n",
    "In order to follow a structure for Part-B of the project, here is link to our Part-A video of the project: [The impact of Covid-19](https://www.youtube.com/watch?v=--AMiwuPjLI)\n",
    "\n",
    "While the sources are on the front lines, reliably presenting people with vital information and helping them to stay informed on all things pertaining to this crisis, our goals are slightly different, as outlined below.\n",
    "\n",
    "**Goals:**\n",
    ">1. Use a potential data source to gain insights into the pandemic from unique contexts.\n",
    ">2. Create an overview with the topic **_Global Impact of Covid-19_** and showcase the trend of cases, deaths & recoveries with respect to certain time period.\n",
    ">3. _Risk factor & Environmental factor_ are other important things, report is focused on.\n",
    ">4. Generic trend in between previous pandemic outbreaks is supposed to be illustrated comparing the `Covid-19` data to the likelyhood of **SARS**, **H1N1** & **Ebola**."
   ]
  },
  {
   "cell_type": "markdown",
   "metadata": {},
   "source": [
    "* ####  What is your dataset?\n",
    "\n",
    "Better to talk about it once we have combined data from all of the sources."
   ]
  },
  {
   "cell_type": "markdown",
   "metadata": {},
   "source": [
    "* ####  Why did you choose this/these particular dataset(s)?\n",
    "\n",
    "Based on the available data, could be easier to write"
   ]
  },
  {
   "cell_type": "markdown",
   "metadata": {},
   "source": [
    "* ####  What was your goal for the end user's experience?\n",
    "\n",
    "While we talked about the Goals for the website, did not had a chance to take a look at the end user's perspective.\n",
    "We figured out that viewer might experience generic visualizations all over the place in the internet as there are lot of credible sources narrating the respective data story with particular genre depending upon the data availability.\n",
    "\n",
    "The end user's guide to the report can be followed in terms of **Goals** as below:\n",
    ">1. User might get a chance to use and browse an interactive website talking about the `cumulative count of cases`, `deaths` & `recoveries` on the _impact of Covid-19_.\n",
    ">2. Viewer will have multiple options to select and browse the trend of a particular country out of certain countries from the menu options with choices of `daily`, `cumulative` & `increase in percentage` for `cases` & `deaths` with certain option of _time slider_.\n",
    ">3. Viewer will get to know an idea about the `risk factor` & `environmental factor` in correlation to the Covid-19 situation.\n",
    ">4. End user can very well review and know about the previous pandemics and its trend with respect to the Covid-19 situation with multi options viewing and comparing `Daily average deathes`, `deaths`, `death rate`, `total cases` & `Countries/regions affected`."
   ]
  },
  {
   "cell_type": "markdown",
   "metadata": {},
   "source": [
    "## 2. Basic stats. Let's understand the dataset better\n",
    "\n",
    "* #### Write about your choices in data cleaning and preprocessing\n",
    "* #### Write a short section that discusses the dataset stats, containing key points/plots from your exploratory data analysis."
   ]
  },
  {
   "cell_type": "code",
   "execution_count": 57,
   "metadata": {},
   "outputs": [],
   "source": [
    "import pandas as pd\n",
    "import numpy as np\n",
    "import matplotlib.pyplot as plt\n",
    "import matplotlib.ticker as mtick"
   ]
  },
  {
   "cell_type": "markdown",
   "metadata": {},
   "source": [
    "### Datasets for global impact"
   ]
  },
  {
   "cell_type": "markdown",
   "metadata": {},
   "source": [
    "The dataset is prepared for plotting a geo-map and some line charts to overview the global impact. <br>\n",
    "Datetime:2020-05-11"
   ]
  },
  {
   "cell_type": "code",
   "execution_count": 58,
   "metadata": {},
   "outputs": [
    {
     "data": {
      "text/html": [
       "<div>\n",
       "<style scoped>\n",
       "    .dataframe tbody tr th:only-of-type {\n",
       "        vertical-align: middle;\n",
       "    }\n",
       "\n",
       "    .dataframe tbody tr th {\n",
       "        vertical-align: top;\n",
       "    }\n",
       "\n",
       "    .dataframe thead th {\n",
       "        text-align: right;\n",
       "    }\n",
       "</style>\n",
       "<table border=\"1\" class=\"dataframe\">\n",
       "  <thead>\n",
       "    <tr style=\"text-align: right;\">\n",
       "      <th></th>\n",
       "      <th>countrycode</th>\n",
       "      <th>country</th>\n",
       "      <th>cases</th>\n",
       "      <th>deaths</th>\n",
       "    </tr>\n",
       "  </thead>\n",
       "  <tbody>\n",
       "    <tr>\n",
       "      <th>0</th>\n",
       "      <td>ABW</td>\n",
       "      <td>Aruba</td>\n",
       "      <td>101</td>\n",
       "      <td>3</td>\n",
       "    </tr>\n",
       "    <tr>\n",
       "      <th>1</th>\n",
       "      <td>AFG</td>\n",
       "      <td>Afghanistan</td>\n",
       "      <td>4402</td>\n",
       "      <td>120</td>\n",
       "    </tr>\n",
       "    <tr>\n",
       "      <th>2</th>\n",
       "      <td>AGO</td>\n",
       "      <td>Angola</td>\n",
       "      <td>45</td>\n",
       "      <td>2</td>\n",
       "    </tr>\n",
       "    <tr>\n",
       "      <th>3</th>\n",
       "      <td>ALB</td>\n",
       "      <td>Albania</td>\n",
       "      <td>868</td>\n",
       "      <td>31</td>\n",
       "    </tr>\n",
       "    <tr>\n",
       "      <th>4</th>\n",
       "      <td>AND</td>\n",
       "      <td>Andorra</td>\n",
       "      <td>755</td>\n",
       "      <td>48</td>\n",
       "    </tr>\n",
       "    <tr>\n",
       "      <th>...</th>\n",
       "      <td>...</td>\n",
       "      <td>...</td>\n",
       "      <td>...</td>\n",
       "      <td>...</td>\n",
       "    </tr>\n",
       "    <tr>\n",
       "      <th>199</th>\n",
       "      <td>XKX</td>\n",
       "      <td>Kosovo</td>\n",
       "      <td>870</td>\n",
       "      <td>28</td>\n",
       "    </tr>\n",
       "    <tr>\n",
       "      <th>200</th>\n",
       "      <td>YEM</td>\n",
       "      <td>Yemen</td>\n",
       "      <td>51</td>\n",
       "      <td>8</td>\n",
       "    </tr>\n",
       "    <tr>\n",
       "      <th>201</th>\n",
       "      <td>ZAF</td>\n",
       "      <td>South_Africa</td>\n",
       "      <td>10015</td>\n",
       "      <td>194</td>\n",
       "    </tr>\n",
       "    <tr>\n",
       "      <th>202</th>\n",
       "      <td>ZMB</td>\n",
       "      <td>Zambia</td>\n",
       "      <td>267</td>\n",
       "      <td>7</td>\n",
       "    </tr>\n",
       "    <tr>\n",
       "      <th>203</th>\n",
       "      <td>ZWE</td>\n",
       "      <td>Zimbabwe</td>\n",
       "      <td>36</td>\n",
       "      <td>4</td>\n",
       "    </tr>\n",
       "  </tbody>\n",
       "</table>\n",
       "<p>204 rows × 4 columns</p>\n",
       "</div>"
      ],
      "text/plain": [
       "    countrycode       country  cases  deaths\n",
       "0           ABW         Aruba    101       3\n",
       "1           AFG   Afghanistan   4402     120\n",
       "2           AGO        Angola     45       2\n",
       "3           ALB       Albania    868      31\n",
       "4           AND       Andorra    755      48\n",
       "..          ...           ...    ...     ...\n",
       "199         XKX        Kosovo    870      28\n",
       "200         YEM         Yemen     51       8\n",
       "201         ZAF  South_Africa  10015     194\n",
       "202         ZMB        Zambia    267       7\n",
       "203         ZWE      Zimbabwe     36       4\n",
       "\n",
       "[204 rows x 4 columns]"
      ]
     },
     "execution_count": 58,
     "metadata": {},
     "output_type": "execute_result"
    }
   ],
   "source": [
    "import pandas as pd\n",
    "df = pd.read_csv('covid.txt')\n",
    "df['dateRep']=pd.to_datetime(df[['year','month','day']])\n",
    "df_country_cases = df.groupby(['countryterritoryCode','countriesAndTerritories'])['cases'].sum()\n",
    "df_country_deaths = df.groupby(['countryterritoryCode','countriesAndTerritories'])['deaths'].sum()\n",
    "country_code = [i[0] for i in df_country_cases.index]\n",
    "countries = [i[1] for i in df_country_cases.index]\n",
    "cases = [i for i in df_country_cases.values]\n",
    "deaths = [i for i in df_country_deaths.values]\n",
    "data = {'countrycode':country_code,\n",
    "        'country':countries,\n",
    "        'cases':cases,\n",
    "        'deaths':deaths\n",
    "}\n",
    "new_df = pd.DataFrame(data = data)\n",
    "new_df"
   ]
  },
  {
   "cell_type": "markdown",
   "metadata": {},
   "source": [
    "### Datasets for risk factor part"
   ]
  },
  {
   "cell_type": "markdown",
   "metadata": {},
   "source": [
    "Because of the lack of published data concerning risk factors of Covid-19, the following data and percentage information in our dataset have been extracted from a Chinese study about  the ‘Clinical Characteristics of Coronavirus Disease 2019 in China’ : https://www.nejm.org/doi/10.1056/NEJMoa2002032. Data regarding general population and general smoking prevalence rate in chaina has been taken from data “ourworldindata” website: https://ourworldindata.org/."
   ]
  },
  {
   "cell_type": "code",
   "execution_count": 59,
   "metadata": {},
   "outputs": [
    {
     "data": {
      "text/html": [
       "<div>\n",
       "<style scoped>\n",
       "    .dataframe tbody tr th:only-of-type {\n",
       "        vertical-align: middle;\n",
       "    }\n",
       "\n",
       "    .dataframe tbody tr th {\n",
       "        vertical-align: top;\n",
       "    }\n",
       "\n",
       "    .dataframe thead th {\n",
       "        text-align: right;\n",
       "    }\n",
       "</style>\n",
       "<table border=\"1\" class=\"dataframe\">\n",
       "  <thead>\n",
       "    <tr style=\"text-align: right;\">\n",
       "      <th></th>\n",
       "      <th>Risk_Factors</th>\n",
       "      <th>Total</th>\n",
       "      <th>Nonsevere</th>\n",
       "      <th>Severe</th>\n",
       "      <th>(Presence Of Primary Composite End Point) YES</th>\n",
       "      <th>(Presence Of Primary Composite End Point) NO</th>\n",
       "      <th>Total_prc</th>\n",
       "      <th>Nonsevere_prc</th>\n",
       "      <th>Severe_prc</th>\n",
       "      <th>(Presence Of Primary Composite End Point)_YES_prc</th>\n",
       "      <th>(Presence Of Primary Composite End Point)_N_prcO</th>\n",
       "      <th>population_prc</th>\n",
       "      <th>Normaly_prc</th>\n",
       "    </tr>\n",
       "  </thead>\n",
       "  <tbody>\n",
       "    <tr>\n",
       "      <th>0</th>\n",
       "      <td>N</td>\n",
       "      <td>1099.0</td>\n",
       "      <td>926.0</td>\n",
       "      <td>173.0</td>\n",
       "      <td>67.0</td>\n",
       "      <td>1032.0</td>\n",
       "      <td>100.0</td>\n",
       "      <td>100.0</td>\n",
       "      <td>100.0</td>\n",
       "      <td>100.0</td>\n",
       "      <td>100.0</td>\n",
       "      <td>100.0</td>\n",
       "      <td>NaN</td>\n",
       "    </tr>\n",
       "    <tr>\n",
       "      <th>1</th>\n",
       "      <td>Female</td>\n",
       "      <td>459.0</td>\n",
       "      <td>386.0</td>\n",
       "      <td>73.0</td>\n",
       "      <td>22.0</td>\n",
       "      <td>437.0</td>\n",
       "      <td>41.9</td>\n",
       "      <td>41.8</td>\n",
       "      <td>42.2</td>\n",
       "      <td>32.8</td>\n",
       "      <td>42.5</td>\n",
       "      <td>47.0</td>\n",
       "      <td>517.0</td>\n",
       "    </tr>\n",
       "    <tr>\n",
       "      <th>2</th>\n",
       "      <td>Male</td>\n",
       "      <td>637.0</td>\n",
       "      <td>537.0</td>\n",
       "      <td>100.0</td>\n",
       "      <td>45.0</td>\n",
       "      <td>592.0</td>\n",
       "      <td>58.1</td>\n",
       "      <td>58.2</td>\n",
       "      <td>57.8</td>\n",
       "      <td>67.2</td>\n",
       "      <td>57.5</td>\n",
       "      <td>53.0</td>\n",
       "      <td>582.0</td>\n",
       "    </tr>\n",
       "    <tr>\n",
       "      <th>3</th>\n",
       "      <td>(NAN)</td>\n",
       "      <td>3.0</td>\n",
       "      <td>3.0</td>\n",
       "      <td>0.0</td>\n",
       "      <td>0.0</td>\n",
       "      <td>3.0</td>\n",
       "      <td>NaN</td>\n",
       "      <td>NaN</td>\n",
       "      <td>NaN</td>\n",
       "      <td>NaN</td>\n",
       "      <td>NaN</td>\n",
       "      <td>NaN</td>\n",
       "      <td>NaN</td>\n",
       "    </tr>\n",
       "    <tr>\n",
       "      <th>4</th>\n",
       "      <td>Never smoked</td>\n",
       "      <td>927.0</td>\n",
       "      <td>793.0</td>\n",
       "      <td>134.0</td>\n",
       "      <td>44.0</td>\n",
       "      <td>883.0</td>\n",
       "      <td>85.4</td>\n",
       "      <td>86.9</td>\n",
       "      <td>77.9</td>\n",
       "      <td>66.7</td>\n",
       "      <td>86.7</td>\n",
       "      <td>61.4</td>\n",
       "      <td>675.0</td>\n",
       "    </tr>\n",
       "  </tbody>\n",
       "</table>\n",
       "</div>"
      ],
      "text/plain": [
       "   Risk_Factors   Total  Nonsevere  Severe  \\\n",
       "0             N  1099.0      926.0   173.0   \n",
       "1        Female   459.0      386.0    73.0   \n",
       "2          Male   637.0      537.0   100.0   \n",
       "3         (NAN)     3.0        3.0     0.0   \n",
       "4  Never smoked   927.0      793.0   134.0   \n",
       "\n",
       "   (Presence Of Primary Composite End Point) YES  \\\n",
       "0                                           67.0   \n",
       "1                                           22.0   \n",
       "2                                           45.0   \n",
       "3                                            0.0   \n",
       "4                                           44.0   \n",
       "\n",
       "   (Presence Of Primary Composite End Point) NO  Total_prc  Nonsevere_prc  \\\n",
       "0                                        1032.0      100.0          100.0   \n",
       "1                                         437.0       41.9           41.8   \n",
       "2                                         592.0       58.1           58.2   \n",
       "3                                           3.0        NaN            NaN   \n",
       "4                                         883.0       85.4           86.9   \n",
       "\n",
       "   Severe_prc  (Presence Of Primary Composite End Point)_YES_prc  \\\n",
       "0       100.0                                              100.0   \n",
       "1        42.2                                               32.8   \n",
       "2        57.8                                               67.2   \n",
       "3         NaN                                                NaN   \n",
       "4        77.9                                               66.7   \n",
       "\n",
       "   (Presence Of Primary Composite End Point)_N_prcO  population_prc  \\\n",
       "0                                             100.0           100.0   \n",
       "1                                              42.5            47.0   \n",
       "2                                              57.5            53.0   \n",
       "3                                               NaN             NaN   \n",
       "4                                              86.7            61.4   \n",
       "\n",
       "   Normaly_prc  \n",
       "0          NaN  \n",
       "1        517.0  \n",
       "2        582.0  \n",
       "3          NaN  \n",
       "4        675.0  "
      ]
     },
     "execution_count": 59,
     "metadata": {},
     "output_type": "execute_result"
    }
   ],
   "source": [
    "dn = pd.read_csv('COVID19_Risk_Factors_Final.csv')\n",
    "dn=dn.drop([22,23,24,25])\n",
    "dn=dn.drop(columns=['Unnamed: 13','Unnamed: 14','Unnamed: 15','Unnamed: 16'])\n",
    "dn.head()"
   ]
  },
  {
   "cell_type": "markdown",
   "metadata": {},
   "source": [
    "#### Covid-19 and Sex"
   ]
  },
  {
   "cell_type": "code",
   "execution_count": 60,
   "metadata": {},
   "outputs": [
    {
     "data": {
      "text/html": [
       "<div>\n",
       "<style scoped>\n",
       "    .dataframe tbody tr th:only-of-type {\n",
       "        vertical-align: middle;\n",
       "    }\n",
       "\n",
       "    .dataframe tbody tr th {\n",
       "        vertical-align: top;\n",
       "    }\n",
       "\n",
       "    .dataframe thead th {\n",
       "        text-align: right;\n",
       "    }\n",
       "</style>\n",
       "<table border=\"1\" class=\"dataframe\">\n",
       "  <thead>\n",
       "    <tr style=\"text-align: right;\">\n",
       "      <th></th>\n",
       "      <th>Risk_Factors</th>\n",
       "      <th>Total</th>\n",
       "      <th>Nonsevere</th>\n",
       "      <th>Severe</th>\n",
       "    </tr>\n",
       "  </thead>\n",
       "  <tbody>\n",
       "    <tr>\n",
       "      <th>1</th>\n",
       "      <td>Female</td>\n",
       "      <td>459.0</td>\n",
       "      <td>386.0</td>\n",
       "      <td>73.0</td>\n",
       "    </tr>\n",
       "    <tr>\n",
       "      <th>2</th>\n",
       "      <td>Male</td>\n",
       "      <td>637.0</td>\n",
       "      <td>537.0</td>\n",
       "      <td>100.0</td>\n",
       "    </tr>\n",
       "    <tr>\n",
       "      <th>3</th>\n",
       "      <td>(NAN)</td>\n",
       "      <td>3.0</td>\n",
       "      <td>3.0</td>\n",
       "      <td>0.0</td>\n",
       "    </tr>\n",
       "  </tbody>\n",
       "</table>\n",
       "</div>"
      ],
      "text/plain": [
       "  Risk_Factors  Total  Nonsevere  Severe\n",
       "1       Female  459.0      386.0    73.0\n",
       "2         Male  637.0      537.0   100.0\n",
       "3        (NAN)    3.0        3.0     0.0"
      ]
     },
     "execution_count": 60,
     "metadata": {},
     "output_type": "execute_result"
    }
   ],
   "source": [
    "sex=dn.iloc[1:4,0:4]\n",
    "labels=sex['Risk_Factors']\n",
    "sizes=sex['Total']\n",
    "labels_gender=dn.columns[2:4]\n",
    "sizes_gender=sex.iloc[0:3,2:4]\n",
    "sizes_gender=sizes_gender.values.tolist()\n",
    "sizes_gender=sum(sizes_gender, [])\n",
    "x1=list(labels) +[(labels.iloc[i]+' '+labels_gender[j])for i in range(len(labels)) for j in range(2)]\n",
    "sex"
   ]
  },
  {
   "cell_type": "markdown",
   "metadata": {},
   "source": [
    "#### Covid-19 and smoking"
   ]
  },
  {
   "cell_type": "code",
   "execution_count": 61,
   "metadata": {},
   "outputs": [
    {
     "data": {
      "text/html": [
       "<div>\n",
       "<style scoped>\n",
       "    .dataframe tbody tr th:only-of-type {\n",
       "        vertical-align: middle;\n",
       "    }\n",
       "\n",
       "    .dataframe tbody tr th {\n",
       "        vertical-align: top;\n",
       "    }\n",
       "\n",
       "    .dataframe thead th {\n",
       "        text-align: right;\n",
       "    }\n",
       "</style>\n",
       "<table border=\"1\" class=\"dataframe\">\n",
       "  <thead>\n",
       "    <tr style=\"text-align: right;\">\n",
       "      <th></th>\n",
       "      <th>Risk_Factors</th>\n",
       "      <th>Total</th>\n",
       "      <th>Nonsevere</th>\n",
       "      <th>Severe</th>\n",
       "    </tr>\n",
       "  </thead>\n",
       "  <tbody>\n",
       "    <tr>\n",
       "      <th>4</th>\n",
       "      <td>Never smoked</td>\n",
       "      <td>927.0</td>\n",
       "      <td>793.0</td>\n",
       "      <td>134.0</td>\n",
       "    </tr>\n",
       "    <tr>\n",
       "      <th>5</th>\n",
       "      <td>Former smoker</td>\n",
       "      <td>21.0</td>\n",
       "      <td>12.0</td>\n",
       "      <td>9.0</td>\n",
       "    </tr>\n",
       "    <tr>\n",
       "      <th>6</th>\n",
       "      <td>Current smoker</td>\n",
       "      <td>137.0</td>\n",
       "      <td>108.0</td>\n",
       "      <td>29.0</td>\n",
       "    </tr>\n",
       "    <tr>\n",
       "      <th>7</th>\n",
       "      <td>(NAN)</td>\n",
       "      <td>14.0</td>\n",
       "      <td>13.0</td>\n",
       "      <td>1.0</td>\n",
       "    </tr>\n",
       "  </tbody>\n",
       "</table>\n",
       "</div>"
      ],
      "text/plain": [
       "     Risk_Factors  Total  Nonsevere  Severe\n",
       "4    Never smoked  927.0      793.0   134.0\n",
       "5   Former smoker   21.0       12.0     9.0\n",
       "6  Current smoker  137.0      108.0    29.0\n",
       "7           (NAN)   14.0       13.0     1.0"
      ]
     },
     "execution_count": 61,
     "metadata": {},
     "output_type": "execute_result"
    }
   ],
   "source": [
    "Labels=dn.iloc[4:8,0:4]\n",
    "labels=Labels['Risk_Factors']\n",
    "sizes=Labels['Total']\n",
    "labels_gender=dn.columns[2:4]\n",
    "sizes_gender=Labels.iloc[0:4,2:4]\n",
    "sizes_gender=sizes_gender.values.tolist()\n",
    "sizes_gender=sum(sizes_gender, [])\n",
    "x2=list(labels) +[(labels.iloc[i]+' '+labels_gender[j])for i in range(len(labels)) for j in range(2)]\n",
    "Labels"
   ]
  },
  {
   "cell_type": "markdown",
   "metadata": {},
   "source": [
    "#### Modelling"
   ]
  },
  {
   "cell_type": "markdown",
   "metadata": {},
   "source": [
    "The datasets below is merged by several datasets to carry out a multilinear regression in the data analysis part"
   ]
  },
  {
   "cell_type": "code",
   "execution_count": 62,
   "metadata": {},
   "outputs": [
    {
     "data": {
      "text/html": [
       "<div>\n",
       "<style scoped>\n",
       "    .dataframe tbody tr th:only-of-type {\n",
       "        vertical-align: middle;\n",
       "    }\n",
       "\n",
       "    .dataframe tbody tr th {\n",
       "        vertical-align: top;\n",
       "    }\n",
       "\n",
       "    .dataframe thead th {\n",
       "        text-align: right;\n",
       "    }\n",
       "</style>\n",
       "<table border=\"1\" class=\"dataframe\">\n",
       "  <thead>\n",
       "    <tr style=\"text-align: right;\">\n",
       "      <th></th>\n",
       "      <th>Entity</th>\n",
       "      <th>Code</th>\n",
       "      <th>Date</th>\n",
       "      <th>Total confirmed deaths due to COVID-19 (deaths)</th>\n",
       "    </tr>\n",
       "  </thead>\n",
       "  <tbody>\n",
       "    <tr>\n",
       "      <th>43</th>\n",
       "      <td>Afghanistan</td>\n",
       "      <td>AFG</td>\n",
       "      <td>May 6, 2020</td>\n",
       "      <td>95</td>\n",
       "    </tr>\n",
       "    <tr>\n",
       "      <th>102</th>\n",
       "      <td>Africa</td>\n",
       "      <td>NaN</td>\n",
       "      <td>May 6, 2020</td>\n",
       "      <td>1924</td>\n",
       "    </tr>\n",
       "    <tr>\n",
       "      <th>158</th>\n",
       "      <td>Albania</td>\n",
       "      <td>ALB</td>\n",
       "      <td>May 6, 2020</td>\n",
       "      <td>31</td>\n",
       "    </tr>\n",
       "    <tr>\n",
       "      <th>213</th>\n",
       "      <td>Algeria</td>\n",
       "      <td>DZA</td>\n",
       "      <td>May 6, 2020</td>\n",
       "      <td>470</td>\n",
       "    </tr>\n",
       "    <tr>\n",
       "      <th>254</th>\n",
       "      <td>Andorra</td>\n",
       "      <td>AND</td>\n",
       "      <td>May 6, 2020</td>\n",
       "      <td>46</td>\n",
       "    </tr>\n",
       "    <tr>\n",
       "      <th>...</th>\n",
       "      <td>...</td>\n",
       "      <td>...</td>\n",
       "      <td>...</td>\n",
       "      <td>...</td>\n",
       "    </tr>\n",
       "    <tr>\n",
       "      <th>8775</th>\n",
       "      <td>World excl. China and South Korea</td>\n",
       "      <td>NaN</td>\n",
       "      <td>May 6, 2020</td>\n",
       "      <td>251988</td>\n",
       "    </tr>\n",
       "    <tr>\n",
       "      <th>8870</th>\n",
       "      <td>World excl. China, South Korea, Japan and Sing...</td>\n",
       "      <td>NaN</td>\n",
       "      <td>May 6, 2020</td>\n",
       "      <td>251427</td>\n",
       "    </tr>\n",
       "    <tr>\n",
       "      <th>8876</th>\n",
       "      <td>Yemen</td>\n",
       "      <td>YEM</td>\n",
       "      <td>May 6, 2020</td>\n",
       "      <td>3</td>\n",
       "    </tr>\n",
       "    <tr>\n",
       "      <th>8910</th>\n",
       "      <td>Zambia</td>\n",
       "      <td>ZMB</td>\n",
       "      <td>May 6, 2020</td>\n",
       "      <td>4</td>\n",
       "    </tr>\n",
       "    <tr>\n",
       "      <th>8954</th>\n",
       "      <td>Zimbabwe</td>\n",
       "      <td>ZWE</td>\n",
       "      <td>May 6, 2020</td>\n",
       "      <td>4</td>\n",
       "    </tr>\n",
       "  </tbody>\n",
       "</table>\n",
       "<p>191 rows × 4 columns</p>\n",
       "</div>"
      ],
      "text/plain": [
       "                                                 Entity Code         Date  \\\n",
       "43                                          Afghanistan  AFG  May 6, 2020   \n",
       "102                                              Africa  NaN  May 6, 2020   \n",
       "158                                             Albania  ALB  May 6, 2020   \n",
       "213                                             Algeria  DZA  May 6, 2020   \n",
       "254                                             Andorra  AND  May 6, 2020   \n",
       "...                                                 ...  ...          ...   \n",
       "8775                  World excl. China and South Korea  NaN  May 6, 2020   \n",
       "8870  World excl. China, South Korea, Japan and Sing...  NaN  May 6, 2020   \n",
       "8876                                              Yemen  YEM  May 6, 2020   \n",
       "8910                                             Zambia  ZMB  May 6, 2020   \n",
       "8954                                           Zimbabwe  ZWE  May 6, 2020   \n",
       "\n",
       "      Total confirmed deaths due to COVID-19 (deaths)  \n",
       "43                                                 95  \n",
       "102                                              1924  \n",
       "158                                                31  \n",
       "213                                               470  \n",
       "254                                                46  \n",
       "...                                               ...  \n",
       "8775                                           251988  \n",
       "8870                                           251427  \n",
       "8876                                                3  \n",
       "8910                                                4  \n",
       "8954                                                4  \n",
       "\n",
       "[191 rows x 4 columns]"
      ]
     },
     "execution_count": 62,
     "metadata": {},
     "output_type": "execute_result"
    }
   ],
   "source": [
    "dm = pd.read_csv('deaths.csv')\n",
    "dm = dm.loc[dm.Date =='May 6, 2020']\n",
    "dm"
   ]
  },
  {
   "cell_type": "code",
   "execution_count": 63,
   "metadata": {},
   "outputs": [
    {
     "data": {
      "text/html": [
       "<div>\n",
       "<style scoped>\n",
       "    .dataframe tbody tr th:only-of-type {\n",
       "        vertical-align: middle;\n",
       "    }\n",
       "\n",
       "    .dataframe tbody tr th {\n",
       "        vertical-align: top;\n",
       "    }\n",
       "\n",
       "    .dataframe thead th {\n",
       "        text-align: right;\n",
       "    }\n",
       "</style>\n",
       "<table border=\"1\" class=\"dataframe\">\n",
       "  <thead>\n",
       "    <tr style=\"text-align: right;\">\n",
       "      <th></th>\n",
       "      <th>Entity</th>\n",
       "      <th>Code</th>\n",
       "      <th>Date</th>\n",
       "      <th>Total confirmed deaths due to COVID-19 (deaths)</th>\n",
       "      <th>age</th>\n",
       "      <th>sexratio</th>\n",
       "      <th>totalSmokingRate</th>\n",
       "    </tr>\n",
       "  </thead>\n",
       "  <tbody>\n",
       "    <tr>\n",
       "      <th>158</th>\n",
       "      <td>Albania</td>\n",
       "      <td>ALB</td>\n",
       "      <td>May 6, 2020</td>\n",
       "      <td>31</td>\n",
       "      <td>13.744736</td>\n",
       "      <td>1.085</td>\n",
       "      <td>29.40</td>\n",
       "    </tr>\n",
       "    <tr>\n",
       "      <th>377</th>\n",
       "      <td>Argentina</td>\n",
       "      <td>ARG</td>\n",
       "      <td>May 6, 2020</td>\n",
       "      <td>264</td>\n",
       "      <td>11.117789</td>\n",
       "      <td>1.040</td>\n",
       "      <td>23.95</td>\n",
       "    </tr>\n",
       "    <tr>\n",
       "      <th>418</th>\n",
       "      <td>Armenia</td>\n",
       "      <td>ARM</td>\n",
       "      <td>May 6, 2020</td>\n",
       "      <td>40</td>\n",
       "      <td>11.253818</td>\n",
       "      <td>1.109</td>\n",
       "      <td>26.90</td>\n",
       "    </tr>\n",
       "    <tr>\n",
       "      <th>718</th>\n",
       "      <td>Australia</td>\n",
       "      <td>AUS</td>\n",
       "      <td>May 6, 2020</td>\n",
       "      <td>96</td>\n",
       "      <td>15.656475</td>\n",
       "      <td>1.055</td>\n",
       "      <td>14.90</td>\n",
       "    </tr>\n",
       "    <tr>\n",
       "      <th>773</th>\n",
       "      <td>Austria</td>\n",
       "      <td>AUT</td>\n",
       "      <td>May 6, 2020</td>\n",
       "      <td>606</td>\n",
       "      <td>19.001566</td>\n",
       "      <td>1.055</td>\n",
       "      <td>35.15</td>\n",
       "    </tr>\n",
       "    <tr>\n",
       "      <th>...</th>\n",
       "      <td>...</td>\n",
       "      <td>...</td>\n",
       "      <td>...</td>\n",
       "      <td>...</td>\n",
       "      <td>...</td>\n",
       "      <td>...</td>\n",
       "      <td>...</td>\n",
       "    </tr>\n",
       "    <tr>\n",
       "      <th>8202</th>\n",
       "      <td>United States</td>\n",
       "      <td>USA</td>\n",
       "      <td>May 6, 2020</td>\n",
       "      <td>71078</td>\n",
       "      <td>15.807654</td>\n",
       "      <td>1.047</td>\n",
       "      <td>17.25</td>\n",
       "    </tr>\n",
       "    <tr>\n",
       "      <th>8388</th>\n",
       "      <td>Uruguay</td>\n",
       "      <td>URY</td>\n",
       "      <td>May 6, 2020</td>\n",
       "      <td>17</td>\n",
       "      <td>14.814520</td>\n",
       "      <td>1.050</td>\n",
       "      <td>23.05</td>\n",
       "    </tr>\n",
       "    <tr>\n",
       "      <th>8427</th>\n",
       "      <td>Uzbekistan</td>\n",
       "      <td>UZB</td>\n",
       "      <td>May 6, 2020</td>\n",
       "      <td>10</td>\n",
       "      <td>4.419138</td>\n",
       "      <td>1.062</td>\n",
       "      <td>13.10</td>\n",
       "    </tr>\n",
       "    <tr>\n",
       "      <th>8910</th>\n",
       "      <td>Zambia</td>\n",
       "      <td>ZMB</td>\n",
       "      <td>May 6, 2020</td>\n",
       "      <td>4</td>\n",
       "      <td>2.099678</td>\n",
       "      <td>1.031</td>\n",
       "      <td>15.55</td>\n",
       "    </tr>\n",
       "    <tr>\n",
       "      <th>8954</th>\n",
       "      <td>Zimbabwe</td>\n",
       "      <td>ZWE</td>\n",
       "      <td>May 6, 2020</td>\n",
       "      <td>4</td>\n",
       "      <td>2.939524</td>\n",
       "      <td>1.020</td>\n",
       "      <td>16.65</td>\n",
       "    </tr>\n",
       "  </tbody>\n",
       "</table>\n",
       "<p>107 rows × 7 columns</p>\n",
       "</div>"
      ],
      "text/plain": [
       "             Entity Code         Date  \\\n",
       "158         Albania  ALB  May 6, 2020   \n",
       "377       Argentina  ARG  May 6, 2020   \n",
       "418         Armenia  ARM  May 6, 2020   \n",
       "718       Australia  AUS  May 6, 2020   \n",
       "773         Austria  AUT  May 6, 2020   \n",
       "...             ...  ...          ...   \n",
       "8202  United States  USA  May 6, 2020   \n",
       "8388        Uruguay  URY  May 6, 2020   \n",
       "8427     Uzbekistan  UZB  May 6, 2020   \n",
       "8910         Zambia  ZMB  May 6, 2020   \n",
       "8954       Zimbabwe  ZWE  May 6, 2020   \n",
       "\n",
       "      Total confirmed deaths due to COVID-19 (deaths)        age  sexratio  \\\n",
       "158                                                31  13.744736     1.085   \n",
       "377                                               264  11.117789     1.040   \n",
       "418                                                40  11.253818     1.109   \n",
       "718                                                96  15.656475     1.055   \n",
       "773                                               606  19.001566     1.055   \n",
       "...                                               ...        ...       ...   \n",
       "8202                                            71078  15.807654     1.047   \n",
       "8388                                               17  14.814520     1.050   \n",
       "8427                                               10   4.419138     1.062   \n",
       "8910                                                4   2.099678     1.031   \n",
       "8954                                                4   2.939524     1.020   \n",
       "\n",
       "      totalSmokingRate  \n",
       "158              29.40  \n",
       "377              23.95  \n",
       "418              26.90  \n",
       "718              14.90  \n",
       "773              35.15  \n",
       "...                ...  \n",
       "8202             17.25  \n",
       "8388             23.05  \n",
       "8427             13.10  \n",
       "8910             15.55  \n",
       "8954             16.65  \n",
       "\n",
       "[107 rows x 7 columns]"
      ]
     },
     "execution_count": 63,
     "metadata": {},
     "output_type": "execute_result"
    }
   ],
   "source": [
    "col = ['Country Code','2018']\n",
    "dm_sex = pd.read_csv('sex.csv')\n",
    "dm_age = pd.read_csv('age.csv')\n",
    "dm_age = dm_age[col]\n",
    "dm_sex = dm_sex[col]\n",
    "\n",
    "dm = dm.join(dm_age.set_index('Country Code'),'Code')\n",
    "dm.rename(columns={'2018':'age'}, inplace=True)\n",
    "\n",
    "dm = dm.join(dm_sex.set_index('Country Code'),'Code')\n",
    "dm.rename(columns={'2018':'sexratio'}, inplace=True)\n",
    "dm = dm.dropna()\n",
    "dm_smoke = pd.read_csv('smoker.csv')\n",
    "col = ['totalSmokingRate','name']\n",
    "dm_smoke = dm_smoke[col]\n",
    "dm = dm.join(dm_smoke.set_index('name'),'Entity').dropna()\n",
    "dm"
   ]
  },
  {
   "cell_type": "markdown",
   "metadata": {},
   "source": [
    "### Datasets for environmental factor part"
   ]
  },
  {
   "cell_type": "code",
   "execution_count": 64,
   "metadata": {},
   "outputs": [
    {
     "data": {
      "text/html": [
       "<div>\n",
       "<style scoped>\n",
       "    .dataframe tbody tr th:only-of-type {\n",
       "        vertical-align: middle;\n",
       "    }\n",
       "\n",
       "    .dataframe tbody tr th {\n",
       "        vertical-align: top;\n",
       "    }\n",
       "\n",
       "    .dataframe thead th {\n",
       "        text-align: right;\n",
       "    }\n",
       "</style>\n",
       "<table border=\"1\" class=\"dataframe\">\n",
       "  <thead>\n",
       "    <tr style=\"text-align: right;\">\n",
       "      <th></th>\n",
       "      <th>Unnamed: 0</th>\n",
       "      <th>id</th>\n",
       "      <th>province</th>\n",
       "      <th>country</th>\n",
       "      <th>lat</th>\n",
       "      <th>long</th>\n",
       "      <th>date</th>\n",
       "      <th>cases</th>\n",
       "      <th>fatalities</th>\n",
       "      <th>capital</th>\n",
       "      <th>humidity</th>\n",
       "      <th>sunHour</th>\n",
       "      <th>tempC</th>\n",
       "      <th>windspeedKmph</th>\n",
       "    </tr>\n",
       "  </thead>\n",
       "  <tbody>\n",
       "    <tr>\n",
       "      <th>0</th>\n",
       "      <td>0</td>\n",
       "      <td>1</td>\n",
       "      <td>NaN</td>\n",
       "      <td>Afghanistan</td>\n",
       "      <td>33.0</td>\n",
       "      <td>65.0</td>\n",
       "      <td>2020-01-22</td>\n",
       "      <td>0.0</td>\n",
       "      <td>0.0</td>\n",
       "      <td>Kabul</td>\n",
       "      <td>65.0</td>\n",
       "      <td>8.7</td>\n",
       "      <td>-1.0</td>\n",
       "      <td>8.0</td>\n",
       "    </tr>\n",
       "    <tr>\n",
       "      <th>1</th>\n",
       "      <td>1</td>\n",
       "      <td>2</td>\n",
       "      <td>NaN</td>\n",
       "      <td>Afghanistan</td>\n",
       "      <td>33.0</td>\n",
       "      <td>65.0</td>\n",
       "      <td>2020-01-23</td>\n",
       "      <td>0.0</td>\n",
       "      <td>0.0</td>\n",
       "      <td>Kabul</td>\n",
       "      <td>59.0</td>\n",
       "      <td>8.7</td>\n",
       "      <td>-3.0</td>\n",
       "      <td>8.0</td>\n",
       "    </tr>\n",
       "    <tr>\n",
       "      <th>2</th>\n",
       "      <td>2</td>\n",
       "      <td>3</td>\n",
       "      <td>NaN</td>\n",
       "      <td>Afghanistan</td>\n",
       "      <td>33.0</td>\n",
       "      <td>65.0</td>\n",
       "      <td>2020-01-24</td>\n",
       "      <td>0.0</td>\n",
       "      <td>0.0</td>\n",
       "      <td>Kabul</td>\n",
       "      <td>71.0</td>\n",
       "      <td>7.1</td>\n",
       "      <td>0.0</td>\n",
       "      <td>7.0</td>\n",
       "    </tr>\n",
       "    <tr>\n",
       "      <th>3</th>\n",
       "      <td>3</td>\n",
       "      <td>4</td>\n",
       "      <td>NaN</td>\n",
       "      <td>Afghanistan</td>\n",
       "      <td>33.0</td>\n",
       "      <td>65.0</td>\n",
       "      <td>2020-01-25</td>\n",
       "      <td>0.0</td>\n",
       "      <td>0.0</td>\n",
       "      <td>Kabul</td>\n",
       "      <td>79.0</td>\n",
       "      <td>8.7</td>\n",
       "      <td>0.0</td>\n",
       "      <td>7.0</td>\n",
       "    </tr>\n",
       "    <tr>\n",
       "      <th>4</th>\n",
       "      <td>4</td>\n",
       "      <td>5</td>\n",
       "      <td>NaN</td>\n",
       "      <td>Afghanistan</td>\n",
       "      <td>33.0</td>\n",
       "      <td>65.0</td>\n",
       "      <td>2020-01-26</td>\n",
       "      <td>0.0</td>\n",
       "      <td>0.0</td>\n",
       "      <td>Kabul</td>\n",
       "      <td>64.0</td>\n",
       "      <td>8.7</td>\n",
       "      <td>-1.0</td>\n",
       "      <td>8.0</td>\n",
       "    </tr>\n",
       "  </tbody>\n",
       "</table>\n",
       "</div>"
      ],
      "text/plain": [
       "   Unnamed: 0  id province      country   lat  long        date  cases  \\\n",
       "0           0   1      NaN  Afghanistan  33.0  65.0  2020-01-22    0.0   \n",
       "1           1   2      NaN  Afghanistan  33.0  65.0  2020-01-23    0.0   \n",
       "2           2   3      NaN  Afghanistan  33.0  65.0  2020-01-24    0.0   \n",
       "3           3   4      NaN  Afghanistan  33.0  65.0  2020-01-25    0.0   \n",
       "4           4   5      NaN  Afghanistan  33.0  65.0  2020-01-26    0.0   \n",
       "\n",
       "   fatalities capital  humidity  sunHour  tempC  windspeedKmph  \n",
       "0         0.0   Kabul      65.0      8.7   -1.0            8.0  \n",
       "1         0.0   Kabul      59.0      8.7   -3.0            8.0  \n",
       "2         0.0   Kabul      71.0      7.1    0.0            7.0  \n",
       "3         0.0   Kabul      79.0      8.7    0.0            7.0  \n",
       "4         0.0   Kabul      64.0      8.7   -1.0            8.0  "
      ]
     },
     "execution_count": 64,
     "metadata": {},
     "output_type": "execute_result"
    }
   ],
   "source": [
    "df = pd.read_csv('temperature.csv')\n",
    "df.head()"
   ]
  },
  {
   "cell_type": "markdown",
   "metadata": {},
   "source": [
    "For this  datasets, the data range is from 2020-03-15/2020-3-21. The features that we used are 'country','cases','humidity','sunHour','te mpC','windspeedKmph'"
   ]
  },
  {
   "cell_type": "code",
   "execution_count": 65,
   "metadata": {},
   "outputs": [
    {
     "data": {
      "text/html": [
       "<div>\n",
       "<style scoped>\n",
       "    .dataframe tbody tr th:only-of-type {\n",
       "        vertical-align: middle;\n",
       "    }\n",
       "\n",
       "    .dataframe tbody tr th {\n",
       "        vertical-align: top;\n",
       "    }\n",
       "\n",
       "    .dataframe thead th {\n",
       "        text-align: right;\n",
       "    }\n",
       "</style>\n",
       "<table border=\"1\" class=\"dataframe\">\n",
       "  <thead>\n",
       "    <tr style=\"text-align: right;\">\n",
       "      <th></th>\n",
       "      <th>Country (or dependency)</th>\n",
       "      <th>Population (2020)</th>\n",
       "      <th>Yearly Change</th>\n",
       "      <th>Net Change</th>\n",
       "      <th>Density (P/Km²)</th>\n",
       "      <th>Land Area (Km²)</th>\n",
       "      <th>Migrants (net)</th>\n",
       "      <th>Fert. Rate</th>\n",
       "      <th>Med. Age</th>\n",
       "      <th>Urban Pop %</th>\n",
       "      <th>World Share</th>\n",
       "    </tr>\n",
       "  </thead>\n",
       "  <tbody>\n",
       "    <tr>\n",
       "      <th>0</th>\n",
       "      <td>China</td>\n",
       "      <td>1438207241</td>\n",
       "      <td>0.39 %</td>\n",
       "      <td>5540090</td>\n",
       "      <td>153</td>\n",
       "      <td>9388211</td>\n",
       "      <td>-348399.0</td>\n",
       "      <td>1.7</td>\n",
       "      <td>38</td>\n",
       "      <td>61 %</td>\n",
       "      <td>18.47 %</td>\n",
       "    </tr>\n",
       "    <tr>\n",
       "      <th>1</th>\n",
       "      <td>India</td>\n",
       "      <td>1377233523</td>\n",
       "      <td>0.99 %</td>\n",
       "      <td>13586631</td>\n",
       "      <td>464</td>\n",
       "      <td>2973190</td>\n",
       "      <td>-532687.0</td>\n",
       "      <td>2.2</td>\n",
       "      <td>28</td>\n",
       "      <td>35 %</td>\n",
       "      <td>17.70 %</td>\n",
       "    </tr>\n",
       "    <tr>\n",
       "      <th>2</th>\n",
       "      <td>United States</td>\n",
       "      <td>330610570</td>\n",
       "      <td>0.59 %</td>\n",
       "      <td>1937734</td>\n",
       "      <td>36</td>\n",
       "      <td>9147420</td>\n",
       "      <td>954806.0</td>\n",
       "      <td>1.8</td>\n",
       "      <td>38</td>\n",
       "      <td>83 %</td>\n",
       "      <td>4.25 %</td>\n",
       "    </tr>\n",
       "    <tr>\n",
       "      <th>3</th>\n",
       "      <td>Indonesia</td>\n",
       "      <td>272931713</td>\n",
       "      <td>1.07 %</td>\n",
       "      <td>2898047</td>\n",
       "      <td>151</td>\n",
       "      <td>1811570</td>\n",
       "      <td>-98955.0</td>\n",
       "      <td>2.3</td>\n",
       "      <td>30</td>\n",
       "      <td>56 %</td>\n",
       "      <td>3.51 %</td>\n",
       "    </tr>\n",
       "    <tr>\n",
       "      <th>4</th>\n",
       "      <td>Pakistan</td>\n",
       "      <td>219992900</td>\n",
       "      <td>2.00 %</td>\n",
       "      <td>4327022</td>\n",
       "      <td>287</td>\n",
       "      <td>770880</td>\n",
       "      <td>-233379.0</td>\n",
       "      <td>3.6</td>\n",
       "      <td>23</td>\n",
       "      <td>35 %</td>\n",
       "      <td>2.83 %</td>\n",
       "    </tr>\n",
       "  </tbody>\n",
       "</table>\n",
       "</div>"
      ],
      "text/plain": [
       "  Country (or dependency)  Population (2020) Yearly Change  Net Change  \\\n",
       "0                   China         1438207241        0.39 %     5540090   \n",
       "1                   India         1377233523        0.99 %    13586631   \n",
       "2           United States          330610570        0.59 %     1937734   \n",
       "3               Indonesia          272931713        1.07 %     2898047   \n",
       "4                Pakistan          219992900        2.00 %     4327022   \n",
       "\n",
       "   Density (P/Km²)  Land Area (Km²)  Migrants (net) Fert. Rate Med. Age  \\\n",
       "0              153          9388211       -348399.0        1.7       38   \n",
       "1              464          2973190       -532687.0        2.2       28   \n",
       "2               36          9147420        954806.0        1.8       38   \n",
       "3              151          1811570        -98955.0        2.3       30   \n",
       "4              287           770880       -233379.0        3.6       23   \n",
       "\n",
       "  Urban Pop % World Share  \n",
       "0        61 %     18.47 %  \n",
       "1        35 %     17.70 %  \n",
       "2        83 %      4.25 %  \n",
       "3        56 %      3.51 %  \n",
       "4        35 %      2.83 %  "
      ]
     },
     "execution_count": 65,
     "metadata": {},
     "output_type": "execute_result"
    }
   ],
   "source": [
    "df_population = pd.read_csv('population.csv')\n",
    "df_population.head()"
   ]
  },
  {
   "cell_type": "markdown",
   "metadata": {},
   "source": [
    "For the population dataset, the feature 'Density(P/Km²)' were used later.\n",
    "\n",
    "*Next step*\n",
    "* Firstly, we made a function to combine these two datasets.\n",
    "* Secondly, four new datasets were made based on the features and date for later use.\n",
    "* These data sets are used to find the relations between caserates and temperature /humdity."
   ]
  },
  {
   "cell_type": "code",
   "execution_count": 66,
   "metadata": {},
   "outputs": [
    {
     "data": {
      "text/html": [
       "<div>\n",
       "<style scoped>\n",
       "    .dataframe tbody tr th:only-of-type {\n",
       "        vertical-align: middle;\n",
       "    }\n",
       "\n",
       "    .dataframe tbody tr th {\n",
       "        vertical-align: top;\n",
       "    }\n",
       "\n",
       "    .dataframe thead th {\n",
       "        text-align: right;\n",
       "    }\n",
       "</style>\n",
       "<table border=\"1\" class=\"dataframe\">\n",
       "  <thead>\n",
       "    <tr style=\"text-align: right;\">\n",
       "      <th></th>\n",
       "      <th>tempC</th>\n",
       "      <th>lat</th>\n",
       "      <th>cases</th>\n",
       "      <th>population</th>\n",
       "      <th>Density</th>\n",
       "      <th>caserate</th>\n",
       "    </tr>\n",
       "    <tr>\n",
       "      <th>country</th>\n",
       "      <th></th>\n",
       "      <th></th>\n",
       "      <th></th>\n",
       "      <th></th>\n",
       "      <th></th>\n",
       "      <th></th>\n",
       "    </tr>\n",
       "  </thead>\n",
       "  <tbody>\n",
       "    <tr>\n",
       "      <th>Afghanistan</th>\n",
       "      <td>15.0</td>\n",
       "      <td>33</td>\n",
       "      <td>24.0</td>\n",
       "      <td>38742911.0</td>\n",
       "      <td>60.0</td>\n",
       "      <td>6.194682e-07</td>\n",
       "    </tr>\n",
       "    <tr>\n",
       "      <th>Albania</th>\n",
       "      <td>19.0</td>\n",
       "      <td>41</td>\n",
       "      <td>76.0</td>\n",
       "      <td>2878420.0</td>\n",
       "      <td>105.0</td>\n",
       "      <td>2.640337e-05</td>\n",
       "    </tr>\n",
       "    <tr>\n",
       "      <th>Algeria</th>\n",
       "      <td>17.0</td>\n",
       "      <td>28</td>\n",
       "      <td>139.0</td>\n",
       "      <td>43685618.0</td>\n",
       "      <td>18.0</td>\n",
       "      <td>3.181825e-06</td>\n",
       "    </tr>\n",
       "    <tr>\n",
       "      <th>Andorra</th>\n",
       "      <td>10.0</td>\n",
       "      <td>43</td>\n",
       "      <td>88.0</td>\n",
       "      <td>77240.0</td>\n",
       "      <td>164.0</td>\n",
       "      <td>1.139306e-03</td>\n",
       "    </tr>\n",
       "    <tr>\n",
       "      <th>Argentina</th>\n",
       "      <td>32.0</td>\n",
       "      <td>-38</td>\n",
       "      <td>158.0</td>\n",
       "      <td>45111229.0</td>\n",
       "      <td>17.0</td>\n",
       "      <td>3.502454e-06</td>\n",
       "    </tr>\n",
       "    <tr>\n",
       "      <th>...</th>\n",
       "      <td>...</td>\n",
       "      <td>...</td>\n",
       "      <td>...</td>\n",
       "      <td>...</td>\n",
       "      <td>...</td>\n",
       "      <td>...</td>\n",
       "    </tr>\n",
       "    <tr>\n",
       "      <th>Uruguay</th>\n",
       "      <td>28.0</td>\n",
       "      <td>-33</td>\n",
       "      <td>110.0</td>\n",
       "      <td>3471314.0</td>\n",
       "      <td>20.0</td>\n",
       "      <td>3.168829e-05</td>\n",
       "    </tr>\n",
       "    <tr>\n",
       "      <th>Uzbekistan</th>\n",
       "      <td>18.0</td>\n",
       "      <td>41</td>\n",
       "      <td>43.0</td>\n",
       "      <td>33368859.0</td>\n",
       "      <td>79.0</td>\n",
       "      <td>1.288627e-06</td>\n",
       "    </tr>\n",
       "    <tr>\n",
       "      <th>Venezuela</th>\n",
       "      <td>25.0</td>\n",
       "      <td>6</td>\n",
       "      <td>70.0</td>\n",
       "      <td>28451828.0</td>\n",
       "      <td>32.0</td>\n",
       "      <td>2.460299e-06</td>\n",
       "    </tr>\n",
       "    <tr>\n",
       "      <th>Vietnam</th>\n",
       "      <td>30.0</td>\n",
       "      <td>16</td>\n",
       "      <td>94.0</td>\n",
       "      <td>97160127.0</td>\n",
       "      <td>314.0</td>\n",
       "      <td>9.674751e-07</td>\n",
       "    </tr>\n",
       "    <tr>\n",
       "      <th>Zambia</th>\n",
       "      <td>21.0</td>\n",
       "      <td>-15</td>\n",
       "      <td>2.0</td>\n",
       "      <td>18273379.0</td>\n",
       "      <td>25.0</td>\n",
       "      <td>1.094488e-07</td>\n",
       "    </tr>\n",
       "  </tbody>\n",
       "</table>\n",
       "<p>153 rows × 6 columns</p>\n",
       "</div>"
      ],
      "text/plain": [
       "             tempC  lat  cases  population  Density      caserate\n",
       "country                                                          \n",
       "Afghanistan   15.0   33   24.0  38742911.0     60.0  6.194682e-07\n",
       "Albania       19.0   41   76.0   2878420.0    105.0  2.640337e-05\n",
       "Algeria       17.0   28  139.0  43685618.0     18.0  3.181825e-06\n",
       "Andorra       10.0   43   88.0     77240.0    164.0  1.139306e-03\n",
       "Argentina     32.0  -38  158.0  45111229.0     17.0  3.502454e-06\n",
       "...            ...  ...    ...         ...      ...           ...\n",
       "Uruguay       28.0  -33  110.0   3471314.0     20.0  3.168829e-05\n",
       "Uzbekistan    18.0   41   43.0  33368859.0     79.0  1.288627e-06\n",
       "Venezuela     25.0    6   70.0  28451828.0     32.0  2.460299e-06\n",
       "Vietnam       30.0   16   94.0  97160127.0    314.0  9.674751e-07\n",
       "Zambia        21.0  -15    2.0  18273379.0     25.0  1.094488e-07\n",
       "\n",
       "[153 rows x 6 columns]"
      ]
     },
     "execution_count": 66,
     "metadata": {},
     "output_type": "execute_result"
    }
   ],
   "source": [
    "## two datasets:temperature,population\n",
    "\n",
    "## comibine two datasets into a new dataframe\n",
    "def get_dataframe(time,df,col):\n",
    "    df_time =  df.loc[df.date == time]\n",
    "    weather = df_time.groupby('country')[col].mean().values\n",
    "    country = df_time.groupby('country')[col].mean().index\n",
    "    lat = df_time.groupby(['country','capital'])['lat'].mean().values\n",
    "    cases = df_time.groupby(['country'])['cases'].sum().values\n",
    "    data = {str(col):weather,\n",
    "            'country':country,\n",
    "            'lat':lat,\n",
    "            'cases':cases\n",
    "    }\n",
    "    df_time = pd.DataFrame(data=data)\n",
    "    df_time = df_time.copy()\n",
    "    df_time['lat'] = df_time['lat'].round().astype(int)\n",
    "    data ={'country':df_population['Country (or dependency)'],\n",
    "      'population':df_population['Population (2020)'],\n",
    "          'Density':df_population['Density (P/Km²)']}\n",
    "    df_pop = pd.DataFrame(data=data)\n",
    "    df_temp_pop = df_time.set_index('country').join(df_pop.set_index('country'))\n",
    "    df_temp_pop['caserate'] = df_temp_pop.cases.values/df_temp_pop.population.values\n",
    "    return df_temp_pop\n",
    "\n",
    "\n",
    "#newdatasets about temperature,humidity for 2020-03-15 and 2020-03-21\n",
    "df_temp_315  = get_dataframe('2020-03-15',df,'tempC')\n",
    "df_temp_321  = get_dataframe('2020-03-21',df,'tempC')\n",
    "df_humdity_315 = get_dataframe('2020-03-15',df,'humidity')\n",
    "df_humdity_321 = get_dataframe('2020-03-21',df,'humidity')\n",
    "df_temp_321"
   ]
  },
  {
   "cell_type": "markdown",
   "metadata": {},
   "source": [
    "In order to assess the realtions between environment factors and the cases, we merged several datasets into a complete dataset to conduct a multi-linear regression later. The new dataset inculdes temperature,windspeed,humdity,sunhour,latitude and population density. "
   ]
  },
  {
   "cell_type": "code",
   "execution_count": 67,
   "metadata": {
    "scrolled": true
   },
   "outputs": [
    {
     "data": {
      "text/html": [
       "<div>\n",
       "<style scoped>\n",
       "    .dataframe tbody tr th:only-of-type {\n",
       "        vertical-align: middle;\n",
       "    }\n",
       "\n",
       "    .dataframe tbody tr th {\n",
       "        vertical-align: top;\n",
       "    }\n",
       "\n",
       "    .dataframe thead th {\n",
       "        text-align: right;\n",
       "    }\n",
       "</style>\n",
       "<table border=\"1\" class=\"dataframe\">\n",
       "  <thead>\n",
       "    <tr style=\"text-align: right;\">\n",
       "      <th></th>\n",
       "      <th>tempC</th>\n",
       "      <th>lat</th>\n",
       "      <th>cases</th>\n",
       "      <th>population</th>\n",
       "      <th>Density</th>\n",
       "      <th>caserate</th>\n",
       "      <th>humidity</th>\n",
       "      <th>windspeedKmph</th>\n",
       "      <th>sunHour</th>\n",
       "    </tr>\n",
       "    <tr>\n",
       "      <th>country</th>\n",
       "      <th></th>\n",
       "      <th></th>\n",
       "      <th></th>\n",
       "      <th></th>\n",
       "      <th></th>\n",
       "      <th></th>\n",
       "      <th></th>\n",
       "      <th></th>\n",
       "      <th></th>\n",
       "    </tr>\n",
       "  </thead>\n",
       "  <tbody>\n",
       "    <tr>\n",
       "      <th>Afghanistan</th>\n",
       "      <td>15.0</td>\n",
       "      <td>33</td>\n",
       "      <td>24.0</td>\n",
       "      <td>38742911.0</td>\n",
       "      <td>60.0</td>\n",
       "      <td>6.194682e-07</td>\n",
       "      <td>61.0</td>\n",
       "      <td>5.0</td>\n",
       "      <td>9.2</td>\n",
       "    </tr>\n",
       "    <tr>\n",
       "      <th>Albania</th>\n",
       "      <td>19.0</td>\n",
       "      <td>41</td>\n",
       "      <td>76.0</td>\n",
       "      <td>2878420.0</td>\n",
       "      <td>105.0</td>\n",
       "      <td>2.640337e-05</td>\n",
       "      <td>63.0</td>\n",
       "      <td>5.0</td>\n",
       "      <td>11.6</td>\n",
       "    </tr>\n",
       "    <tr>\n",
       "      <th>Algeria</th>\n",
       "      <td>17.0</td>\n",
       "      <td>28</td>\n",
       "      <td>139.0</td>\n",
       "      <td>43685618.0</td>\n",
       "      <td>18.0</td>\n",
       "      <td>3.181825e-06</td>\n",
       "      <td>80.0</td>\n",
       "      <td>11.0</td>\n",
       "      <td>7.6</td>\n",
       "    </tr>\n",
       "    <tr>\n",
       "      <th>Andorra</th>\n",
       "      <td>10.0</td>\n",
       "      <td>43</td>\n",
       "      <td>88.0</td>\n",
       "      <td>77240.0</td>\n",
       "      <td>164.0</td>\n",
       "      <td>1.139306e-03</td>\n",
       "      <td>68.0</td>\n",
       "      <td>5.0</td>\n",
       "      <td>11.6</td>\n",
       "    </tr>\n",
       "    <tr>\n",
       "      <th>Argentina</th>\n",
       "      <td>32.0</td>\n",
       "      <td>38</td>\n",
       "      <td>158.0</td>\n",
       "      <td>45111229.0</td>\n",
       "      <td>17.0</td>\n",
       "      <td>3.502454e-06</td>\n",
       "      <td>36.0</td>\n",
       "      <td>7.0</td>\n",
       "      <td>11.6</td>\n",
       "    </tr>\n",
       "  </tbody>\n",
       "</table>\n",
       "</div>"
      ],
      "text/plain": [
       "             tempC  lat  cases  population  Density      caserate  humidity  \\\n",
       "country                                                                       \n",
       "Afghanistan   15.0   33   24.0  38742911.0     60.0  6.194682e-07      61.0   \n",
       "Albania       19.0   41   76.0   2878420.0    105.0  2.640337e-05      63.0   \n",
       "Algeria       17.0   28  139.0  43685618.0     18.0  3.181825e-06      80.0   \n",
       "Andorra       10.0   43   88.0     77240.0    164.0  1.139306e-03      68.0   \n",
       "Argentina     32.0   38  158.0  45111229.0     17.0  3.502454e-06      36.0   \n",
       "\n",
       "             windspeedKmph  sunHour  \n",
       "country                              \n",
       "Afghanistan            5.0      9.2  \n",
       "Albania                5.0     11.6  \n",
       "Algeria               11.0      7.6  \n",
       "Andorra                5.0     11.6  \n",
       "Argentina              7.0     11.6  "
      ]
     },
     "execution_count": 67,
     "metadata": {},
     "output_type": "execute_result"
    }
   ],
   "source": [
    "from sklearn.linear_model import LinearRegression\n",
    "from sklearn import preprocessing\n",
    "\n",
    "## environmental factor\n",
    "\n",
    "df_321_temp  = get_dataframe('2020-03-21',df,'tempC')\n",
    "df_321_humdity = get_dataframe('2020-03-21',df,'humidity')\n",
    "df_321_wind = get_dataframe('2020-03-21',df,'windspeedKmph')\n",
    "df_321_sunhour = get_dataframe('2020-03-21',df,'sunHour')\n",
    "df_321_temp = df_321_temp.dropna()\n",
    "df_321_humdity = df_321_humdity.dropna()\n",
    "df_321_wind = df_321_wind.dropna()\n",
    "df_321_sunhour = df_321_sunhour.dropna()\n",
    "\n",
    "df_321_temp  = get_dataframe('2020-03-21',df,'tempC')\n",
    "df_321_humdity = get_dataframe('2020-03-21',df,'humidity')\n",
    "col = 'humidity'\n",
    "df_humidty = df_321_humdity[col]\n",
    "df_wind = df_321_wind['windspeedKmph']\n",
    "df_sunhour = df_321_sunhour['sunHour']\n",
    "df_weather = df_321_temp.join(df_humidty)\n",
    "df_weather = df_weather.join(df_wind)\n",
    "df_weather = df_weather.join(df_sunhour)\n",
    "# df_weather['caserate'] = df_weather['caserate'] *100000\n",
    "df_weather = df_weather.dropna()\n",
    "df_weather['lat'] = df_weather['lat'].abs()\n",
    "df_weather.head()"
   ]
  },
  {
   "cell_type": "markdown",
   "metadata": {},
   "source": [
    "Using this dataset, we can know how the cases distributed by latitude, how the temperature varis by the latitude and how the population density changes by the latitude, which will be shown in the Data Analysis part."
   ]
  },
  {
   "cell_type": "markdown",
   "metadata": {},
   "source": [
    "### Dataset for outbreak comparison"
   ]
  },
  {
   "cell_type": "markdown",
   "metadata": {},
   "source": [
    "This dataset is used to compare different diseases to find more features of the covid-19."
   ]
  },
  {
   "cell_type": "code",
   "execution_count": 68,
   "metadata": {},
   "outputs": [
    {
     "data": {
      "text/html": [
       "<div>\n",
       "<style scoped>\n",
       "    .dataframe tbody tr th:only-of-type {\n",
       "        vertical-align: middle;\n",
       "    }\n",
       "\n",
       "    .dataframe tbody tr th {\n",
       "        vertical-align: top;\n",
       "    }\n",
       "\n",
       "    .dataframe thead th {\n",
       "        text-align: right;\n",
       "    }\n",
       "</style>\n",
       "<table border=\"1\" class=\"dataframe\">\n",
       "  <thead>\n",
       "    <tr style=\"text-align: right;\">\n",
       "      <th></th>\n",
       "      <th>diseases</th>\n",
       "      <th>averagedeath</th>\n",
       "      <th>deaths</th>\n",
       "      <th>deathsrate</th>\n",
       "      <th>cases</th>\n",
       "      <th>countries</th>\n",
       "    </tr>\n",
       "  </thead>\n",
       "  <tbody>\n",
       "    <tr>\n",
       "      <th>0</th>\n",
       "      <td>COVID-19</td>\n",
       "      <td>1740.0</td>\n",
       "      <td>207094</td>\n",
       "      <td>1.40</td>\n",
       "      <td>3069757</td>\n",
       "      <td>186</td>\n",
       "    </tr>\n",
       "    <tr>\n",
       "      <th>1</th>\n",
       "      <td>H1N1</td>\n",
       "      <td>743.0</td>\n",
       "      <td>362000</td>\n",
       "      <td>0.05</td>\n",
       "      <td>60800000</td>\n",
       "      <td>214</td>\n",
       "    </tr>\n",
       "    <tr>\n",
       "      <th>2</th>\n",
       "      <td>SARS</td>\n",
       "      <td>3.2</td>\n",
       "      <td>774</td>\n",
       "      <td>9.60</td>\n",
       "      <td>8096</td>\n",
       "      <td>26</td>\n",
       "    </tr>\n",
       "    <tr>\n",
       "      <th>3</th>\n",
       "      <td>Ebola</td>\n",
       "      <td>5.3</td>\n",
       "      <td>13023</td>\n",
       "      <td>50.00</td>\n",
       "      <td>28646</td>\n",
       "      <td>10</td>\n",
       "    </tr>\n",
       "  </tbody>\n",
       "</table>\n",
       "</div>"
      ],
      "text/plain": [
       "   diseases  averagedeath  deaths  deathsrate     cases  countries\n",
       "0  COVID-19        1740.0  207094        1.40   3069757        186\n",
       "1      H1N1         743.0  362000        0.05  60800000        214\n",
       "2      SARS           3.2     774        9.60      8096         26\n",
       "3     Ebola           5.3   13023       50.00     28646         10"
      ]
     },
     "execution_count": 68,
     "metadata": {},
     "output_type": "execute_result"
    }
   ],
   "source": [
    "df_outbreak_comparison = pd.read_csv('ourbreak.txt')\n",
    "df_outbreak_comparison"
   ]
  },
  {
   "cell_type": "markdown",
   "metadata": {},
   "source": [
    "## 3. Data Analysis\n",
    "\n",
    "* #### Describe your data analysis and explain what you've learned about the dataset.\n",
    "* #### If relevant, talk about your machine-learning."
   ]
  },
  {
   "cell_type": "markdown",
   "metadata": {},
   "source": [
    "### Overview global impact"
   ]
  },
  {
   "cell_type": "code",
   "execution_count": 69,
   "metadata": {},
   "outputs": [
    {
     "data": {
      "application/vnd.plotly.v1+json": {
       "config": {
        "linkText": "Export to plot.ly",
        "plotlyServerURL": "https://plot.ly",
        "showLink": false
       },
       "data": [
        {
         "autocolorscale": false,
         "colorbar": {
          "title": {
           "text": "Deaths"
          }
         },
         "colorscale": [
          [
           0,
           "rgb(255,245,235)"
          ],
          [
           0.125,
           "rgb(254,230,206)"
          ],
          [
           0.25,
           "rgb(253,208,162)"
          ],
          [
           0.375,
           "rgb(253,174,107)"
          ],
          [
           0.5,
           "rgb(253,141,60)"
          ],
          [
           0.625,
           "rgb(241,105,19)"
          ],
          [
           0.75,
           "rgb(217,72,1)"
          ],
          [
           0.875,
           "rgb(166,54,3)"
          ],
          [
           1,
           "rgb(127,39,4)"
          ]
         ],
         "locations": [
          "ABW",
          "AFG",
          "AGO",
          "ALB",
          "AND",
          "ARE",
          "ARG",
          "ARM",
          "ATG",
          "AUS",
          "AUT",
          "AZE",
          "BDI",
          "BEL",
          "BEN",
          "BFA",
          "BGD",
          "BGR",
          "BHR",
          "BHS",
          "BIH",
          "BLR",
          "BLZ",
          "BMU",
          "BOL",
          "BRA",
          "BRB",
          "BRN",
          "BTN",
          "BWA",
          "CAF",
          "CAN",
          "CHE",
          "CHL",
          "CHN",
          "CIV",
          "CMR",
          "COD",
          "COG",
          "COL",
          "COM",
          "CPV",
          "CRI",
          "CUB",
          "CUW",
          "CYM",
          "CYP",
          "CZE",
          "DEU",
          "DJI",
          "DMA",
          "DNK",
          "DOM",
          "DZA",
          "ECU",
          "EGY",
          "ERI",
          "ESP",
          "EST",
          "ETH",
          "FIN",
          "FJI",
          "FRA",
          "FRO",
          "GAB",
          "GBR",
          "GEO",
          "GGY",
          "GHA",
          "GIB",
          "GIN",
          "GMB",
          "GNB",
          "GNQ",
          "GRC",
          "GRD",
          "GRL",
          "GTM",
          "GUM",
          "GUY",
          "HND",
          "HRV",
          "HTI",
          "HUN",
          "IDN",
          "IMN",
          "IND",
          "IRL",
          "IRN",
          "IRQ",
          "ISL",
          "ISR",
          "ITA",
          "JAM",
          "JEY",
          "JOR",
          "JPN",
          "KAZ",
          "KEN",
          "KGZ",
          "KHM",
          "KNA",
          "KOR",
          "KWT",
          "LAO",
          "LBN",
          "LBR",
          "LBY",
          "LCA",
          "LIE",
          "LKA",
          "LTU",
          "LUX",
          "LVA",
          "MAR",
          "MCO",
          "MDA",
          "MDG",
          "MDV",
          "MEX",
          "MKD",
          "MLI",
          "MLT",
          "MMR",
          "MNE",
          "MNG",
          "MNP",
          "MOZ",
          "MRT",
          "MSR",
          "MUS",
          "MWI",
          "MYS",
          "NAM",
          "NCL",
          "NER",
          "NGA",
          "NIC",
          "NLD",
          "NOR",
          "NPL",
          "NZL",
          "OMN",
          "PAK",
          "PAN",
          "PER",
          "PHL",
          "PNG",
          "POL",
          "PRI",
          "PRT",
          "PRY",
          "PSE",
          "PYF",
          "QAT",
          "ROU",
          "RUS",
          "RWA",
          "SAU",
          "SDN",
          "SEN",
          "SGP",
          "SLE",
          "SLV",
          "SMR",
          "SOM",
          "SRB",
          "SSD",
          "STP",
          "SUR",
          "SVK",
          "SVN",
          "SWE",
          "SWZ",
          "SXM",
          "SYC",
          "SYR",
          "TCA",
          "TCD",
          "TGO",
          "THA",
          "TJK",
          "TLS",
          "TTO",
          "TUN",
          "TUR",
          "TWN",
          "TZA",
          "UGA",
          "UKR",
          "URY",
          "USA",
          "UZB",
          "VAT",
          "VCT",
          "VEN",
          "VGB",
          "VIR",
          "VNM",
          "XKX",
          "YEM",
          "ZAF",
          "ZMB",
          "ZWE"
         ],
         "marker": {
          "line": {
           "color": "darkgray",
           "width": 0.5
          }
         },
         "reversescale": false,
         "text": [
          "Aruba",
          "Afghanistan",
          "Angola",
          "Albania",
          "Andorra",
          "United_Arab_Emirates",
          "Argentina",
          "Armenia",
          "Antigua_and_Barbuda",
          "Australia",
          "Austria",
          "Azerbaijan",
          "Burundi",
          "Belgium",
          "Benin",
          "Burkina_Faso",
          "Bangladesh",
          "Bulgaria",
          "Bahrain",
          "Bahamas",
          "Bosnia_and_Herzegovina",
          "Belarus",
          "Belize",
          "Bermuda",
          "Bolivia",
          "Brazil",
          "Barbados",
          "Brunei_Darussalam",
          "Bhutan",
          "Botswana",
          "Central_African_Republic",
          "Canada",
          "Switzerland",
          "Chile",
          "China",
          "Cote_dIvoire",
          "Cameroon",
          "Democratic_Republic_of_the_Congo",
          "Congo",
          "Colombia",
          "Comoros",
          "Cape_Verde",
          "Costa_Rica",
          "Cuba",
          "Curaçao",
          "Cayman_Islands",
          "Cyprus",
          "Czechia",
          "Germany",
          "Djibouti",
          "Dominica",
          "Denmark",
          "Dominican_Republic",
          "Algeria",
          "Ecuador",
          "Egypt",
          "Eritrea",
          "Spain",
          "Estonia",
          "Ethiopia",
          "Finland",
          "Fiji",
          "France",
          "Faroe_Islands",
          "Gabon",
          "United_Kingdom",
          "Georgia",
          "Guernsey",
          "Ghana",
          "Gibraltar",
          "Guinea",
          "Gambia",
          "Guinea_Bissau",
          "Equatorial_Guinea",
          "Greece",
          "Grenada",
          "Greenland",
          "Guatemala",
          "Guam",
          "Guyana",
          "Honduras",
          "Croatia",
          "Haiti",
          "Hungary",
          "Indonesia",
          "Isle_of_Man",
          "India",
          "Ireland",
          "Iran",
          "Iraq",
          "Iceland",
          "Israel",
          "Italy",
          "Jamaica",
          "Jersey",
          "Jordan",
          "Japan",
          "Kazakhstan",
          "Kenya",
          "Kyrgyzstan",
          "Cambodia",
          "Saint_Kitts_and_Nevis",
          "South_Korea",
          "Kuwait",
          "Laos",
          "Lebanon",
          "Liberia",
          "Libya",
          "Saint_Lucia",
          "Liechtenstein",
          "Sri_Lanka",
          "Lithuania",
          "Luxembourg",
          "Latvia",
          "Morocco",
          "Monaco",
          "Moldova",
          "Madagascar",
          "Maldives",
          "Mexico",
          "North_Macedonia",
          "Mali",
          "Malta",
          "Myanmar",
          "Montenegro",
          "Mongolia",
          "Northern_Mariana_Islands",
          "Mozambique",
          "Mauritania",
          "Montserrat",
          "Mauritius",
          "Malawi",
          "Malaysia",
          "Namibia",
          "New_Caledonia",
          "Niger",
          "Nigeria",
          "Nicaragua",
          "Netherlands",
          "Norway",
          "Nepal",
          "New_Zealand",
          "Oman",
          "Pakistan",
          "Panama",
          "Peru",
          "Philippines",
          "Papua_New_Guinea",
          "Poland",
          "Puerto_Rico",
          "Portugal",
          "Paraguay",
          "Palestine",
          "French_Polynesia",
          "Qatar",
          "Romania",
          "Russia",
          "Rwanda",
          "Saudi_Arabia",
          "Sudan",
          "Senegal",
          "Singapore",
          "Sierra_Leone",
          "El_Salvador",
          "San_Marino",
          "Somalia",
          "Serbia",
          "South_Sudan",
          "Sao_Tome_and_Principe",
          "Suriname",
          "Slovakia",
          "Slovenia",
          "Sweden",
          "Eswatini",
          "Sint_Maarten",
          "Seychelles",
          "Syria",
          "Turks_and_Caicos_islands",
          "Chad",
          "Togo",
          "Thailand",
          "Tajikistan",
          "Timor_Leste",
          "Trinidad_and_Tobago",
          "Tunisia",
          "Turkey",
          "Taiwan",
          "United_Republic_of_Tanzania",
          "Uganda",
          "Ukraine",
          "Uruguay",
          "United_States_of_America",
          "Uzbekistan",
          "Holy_See",
          "Saint_Vincent_and_the_Grenadines",
          "Venezuela",
          "British_Virgin_Islands",
          "United_States_Virgin_Islands",
          "Vietnam",
          "Kosovo",
          "Yemen",
          "South_Africa",
          "Zambia",
          "Zimbabwe"
         ],
         "type": "choropleth",
         "z": [
          3,
          120,
          2,
          31,
          48,
          198,
          300,
          45,
          3,
          97,
          618,
          32,
          1,
          8656,
          2,
          49,
          228,
          91,
          8,
          11,
          102,
          131,
          2,
          7,
          118,
          11123,
          7,
          1,
          0,
          1,
          0,
          4871,
          1537,
          312,
          4637,
          21,
          114,
          41,
          10,
          463,
          1,
          2,
          6,
          77,
          1,
          1,
          22,
          280,
          7417,
          3,
          0,
          529,
          388,
          502,
          2127,
          525,
          0,
          26621,
          60,
          5,
          267,
          0,
          26380,
          0,
          8,
          31855,
          10,
          13,
          22,
          0,
          11,
          1,
          3,
          4,
          151,
          0,
          0,
          26,
          5,
          10,
          108,
          90,
          15,
          421,
          973,
          23,
          2206,
          1458,
          6640,
          109,
          10,
          252,
          30560,
          9,
          25,
          9,
          621,
          31,
          32,
          12,
          0,
          0,
          256,
          58,
          0,
          26,
          20,
          3,
          0,
          1,
          9,
          50,
          101,
          18,
          188,
          4,
          169,
          0,
          3,
          3465,
          91,
          38,
          5,
          6,
          9,
          0,
          2,
          0,
          1,
          1,
          10,
          3,
          108,
          0,
          0,
          46,
          143,
          5,
          5440,
          217,
          0,
          21,
          17,
          667,
          244,
          1889,
          719,
          0,
          800,
          111,
          1135,
          10,
          4,
          0,
          14,
          952,
          1915,
          0,
          246,
          70,
          19,
          20,
          18,
          17,
          41,
          51,
          215,
          0,
          5,
          1,
          26,
          102,
          3225,
          2,
          15,
          0,
          3,
          1,
          31,
          11,
          56,
          20,
          0,
          8,
          45,
          3786,
          6,
          21,
          0,
          391,
          19,
          79528,
          10,
          0,
          0,
          10,
          1,
          4,
          0,
          28,
          8,
          194,
          7,
          4
         ]
        },
        {
         "autocolorscale": false,
         "colorbar": {
          "title": {
           "text": "Cases"
          }
         },
         "colorscale": [
          [
           0,
           "rgb(255,245,240)"
          ],
          [
           0.125,
           "rgb(254,224,210)"
          ],
          [
           0.25,
           "rgb(252,187,161)"
          ],
          [
           0.375,
           "rgb(252,146,114)"
          ],
          [
           0.5,
           "rgb(251,106,74)"
          ],
          [
           0.625,
           "rgb(239,59,44)"
          ],
          [
           0.75,
           "rgb(203,24,29)"
          ],
          [
           0.875,
           "rgb(165,15,21)"
          ],
          [
           1,
           "rgb(103,0,13)"
          ]
         ],
         "locations": [
          "ABW",
          "AFG",
          "AGO",
          "ALB",
          "AND",
          "ARE",
          "ARG",
          "ARM",
          "ATG",
          "AUS",
          "AUT",
          "AZE",
          "BDI",
          "BEL",
          "BEN",
          "BFA",
          "BGD",
          "BGR",
          "BHR",
          "BHS",
          "BIH",
          "BLR",
          "BLZ",
          "BMU",
          "BOL",
          "BRA",
          "BRB",
          "BRN",
          "BTN",
          "BWA",
          "CAF",
          "CAN",
          "CHE",
          "CHL",
          "CHN",
          "CIV",
          "CMR",
          "COD",
          "COG",
          "COL",
          "COM",
          "CPV",
          "CRI",
          "CUB",
          "CUW",
          "CYM",
          "CYP",
          "CZE",
          "DEU",
          "DJI",
          "DMA",
          "DNK",
          "DOM",
          "DZA",
          "ECU",
          "EGY",
          "ERI",
          "ESP",
          "EST",
          "ETH",
          "FIN",
          "FJI",
          "FRA",
          "FRO",
          "GAB",
          "GBR",
          "GEO",
          "GGY",
          "GHA",
          "GIB",
          "GIN",
          "GMB",
          "GNB",
          "GNQ",
          "GRC",
          "GRD",
          "GRL",
          "GTM",
          "GUM",
          "GUY",
          "HND",
          "HRV",
          "HTI",
          "HUN",
          "IDN",
          "IMN",
          "IND",
          "IRL",
          "IRN",
          "IRQ",
          "ISL",
          "ISR",
          "ITA",
          "JAM",
          "JEY",
          "JOR",
          "JPN",
          "KAZ",
          "KEN",
          "KGZ",
          "KHM",
          "KNA",
          "KOR",
          "KWT",
          "LAO",
          "LBN",
          "LBR",
          "LBY",
          "LCA",
          "LIE",
          "LKA",
          "LTU",
          "LUX",
          "LVA",
          "MAR",
          "MCO",
          "MDA",
          "MDG",
          "MDV",
          "MEX",
          "MKD",
          "MLI",
          "MLT",
          "MMR",
          "MNE",
          "MNG",
          "MNP",
          "MOZ",
          "MRT",
          "MSR",
          "MUS",
          "MWI",
          "MYS",
          "NAM",
          "NCL",
          "NER",
          "NGA",
          "NIC",
          "NLD",
          "NOR",
          "NPL",
          "NZL",
          "OMN",
          "PAK",
          "PAN",
          "PER",
          "PHL",
          "PNG",
          "POL",
          "PRI",
          "PRT",
          "PRY",
          "PSE",
          "PYF",
          "QAT",
          "ROU",
          "RUS",
          "RWA",
          "SAU",
          "SDN",
          "SEN",
          "SGP",
          "SLE",
          "SLV",
          "SMR",
          "SOM",
          "SRB",
          "SSD",
          "STP",
          "SUR",
          "SVK",
          "SVN",
          "SWE",
          "SWZ",
          "SXM",
          "SYC",
          "SYR",
          "TCA",
          "TCD",
          "TGO",
          "THA",
          "TJK",
          "TLS",
          "TTO",
          "TUN",
          "TUR",
          "TWN",
          "TZA",
          "UGA",
          "UKR",
          "URY",
          "USA",
          "UZB",
          "VAT",
          "VCT",
          "VEN",
          "VGB",
          "VIR",
          "VNM",
          "XKX",
          "YEM",
          "ZAF",
          "ZMB",
          "ZWE"
         ],
         "marker": {
          "line": {
           "color": "darkgray",
           "width": 0.5
          }
         },
         "reversescale": false,
         "text": [
          "Aruba",
          "Afghanistan",
          "Angola",
          "Albania",
          "Andorra",
          "United_Arab_Emirates",
          "Argentina",
          "Armenia",
          "Antigua_and_Barbuda",
          "Australia",
          "Austria",
          "Azerbaijan",
          "Burundi",
          "Belgium",
          "Benin",
          "Burkina_Faso",
          "Bangladesh",
          "Bulgaria",
          "Bahrain",
          "Bahamas",
          "Bosnia_and_Herzegovina",
          "Belarus",
          "Belize",
          "Bermuda",
          "Bolivia",
          "Brazil",
          "Barbados",
          "Brunei_Darussalam",
          "Bhutan",
          "Botswana",
          "Central_African_Republic",
          "Canada",
          "Switzerland",
          "Chile",
          "China",
          "Cote_dIvoire",
          "Cameroon",
          "Democratic_Republic_of_the_Congo",
          "Congo",
          "Colombia",
          "Comoros",
          "Cape_Verde",
          "Costa_Rica",
          "Cuba",
          "Curaçao",
          "Cayman_Islands",
          "Cyprus",
          "Czechia",
          "Germany",
          "Djibouti",
          "Dominica",
          "Denmark",
          "Dominican_Republic",
          "Algeria",
          "Ecuador",
          "Egypt",
          "Eritrea",
          "Spain",
          "Estonia",
          "Ethiopia",
          "Finland",
          "Fiji",
          "France",
          "Faroe_Islands",
          "Gabon",
          "United_Kingdom",
          "Georgia",
          "Guernsey",
          "Ghana",
          "Gibraltar",
          "Guinea",
          "Gambia",
          "Guinea_Bissau",
          "Equatorial_Guinea",
          "Greece",
          "Grenada",
          "Greenland",
          "Guatemala",
          "Guam",
          "Guyana",
          "Honduras",
          "Croatia",
          "Haiti",
          "Hungary",
          "Indonesia",
          "Isle_of_Man",
          "India",
          "Ireland",
          "Iran",
          "Iraq",
          "Iceland",
          "Israel",
          "Italy",
          "Jamaica",
          "Jersey",
          "Jordan",
          "Japan",
          "Kazakhstan",
          "Kenya",
          "Kyrgyzstan",
          "Cambodia",
          "Saint_Kitts_and_Nevis",
          "South_Korea",
          "Kuwait",
          "Laos",
          "Lebanon",
          "Liberia",
          "Libya",
          "Saint_Lucia",
          "Liechtenstein",
          "Sri_Lanka",
          "Lithuania",
          "Luxembourg",
          "Latvia",
          "Morocco",
          "Monaco",
          "Moldova",
          "Madagascar",
          "Maldives",
          "Mexico",
          "North_Macedonia",
          "Mali",
          "Malta",
          "Myanmar",
          "Montenegro",
          "Mongolia",
          "Northern_Mariana_Islands",
          "Mozambique",
          "Mauritania",
          "Montserrat",
          "Mauritius",
          "Malawi",
          "Malaysia",
          "Namibia",
          "New_Caledonia",
          "Niger",
          "Nigeria",
          "Nicaragua",
          "Netherlands",
          "Norway",
          "Nepal",
          "New_Zealand",
          "Oman",
          "Pakistan",
          "Panama",
          "Peru",
          "Philippines",
          "Papua_New_Guinea",
          "Poland",
          "Puerto_Rico",
          "Portugal",
          "Paraguay",
          "Palestine",
          "French_Polynesia",
          "Qatar",
          "Romania",
          "Russia",
          "Rwanda",
          "Saudi_Arabia",
          "Sudan",
          "Senegal",
          "Singapore",
          "Sierra_Leone",
          "El_Salvador",
          "San_Marino",
          "Somalia",
          "Serbia",
          "South_Sudan",
          "Sao_Tome_and_Principe",
          "Suriname",
          "Slovakia",
          "Slovenia",
          "Sweden",
          "Eswatini",
          "Sint_Maarten",
          "Seychelles",
          "Syria",
          "Turks_and_Caicos_islands",
          "Chad",
          "Togo",
          "Thailand",
          "Tajikistan",
          "Timor_Leste",
          "Trinidad_and_Tobago",
          "Tunisia",
          "Turkey",
          "Taiwan",
          "United_Republic_of_Tanzania",
          "Uganda",
          "Ukraine",
          "Uruguay",
          "United_States_of_America",
          "Uzbekistan",
          "Holy_See",
          "Saint_Vincent_and_the_Grenadines",
          "Venezuela",
          "British_Virgin_Islands",
          "United_States_Virgin_Islands",
          "Vietnam",
          "Kosovo",
          "Yemen",
          "South_Africa",
          "Zambia",
          "Zimbabwe"
         ],
         "type": "choropleth",
         "z": [
          101,
          4402,
          45,
          868,
          755,
          18198,
          5776,
          3313,
          25,
          6941,
          15787,
          2519,
          19,
          53081,
          319,
          751,
          14657,
          1965,
          4941,
          92,
          2090,
          22973,
          18,
          118,
          2556,
          162699,
          84,
          141,
          9,
          23,
          179,
          68848,
          30222,
          28866,
          84010,
          1700,
          2579,
          1024,
          287,
          11063,
          11,
          246,
          792,
          1766,
          16,
          81,
          898,
          8123,
          169575,
          1210,
          16,
          10429,
          10347,
          5723,
          29559,
          9400,
          39,
          224390,
          1739,
          239,
          5962,
          18,
          139063,
          187,
          661,
          219183,
          635,
          252,
          4263,
          146,
          2146,
          20,
          726,
          439,
          2716,
          21,
          11,
          1052,
          151,
          104,
          1972,
          2187,
          182,
          3284,
          14032,
          330,
          67152,
          22996,
          107603,
          2767,
          1801,
          16477,
          219070,
          502,
          294,
          540,
          15798,
          5126,
          672,
          1016,
          122,
          15,
          10909,
          8688,
          19,
          845,
          199,
          64,
          18,
          83,
          863,
          1479,
          3886,
          939,
          6063,
          96,
          4927,
          193,
          835,
          35022,
          1642,
          704,
          496,
          180,
          324,
          42,
          16,
          91,
          8,
          11,
          332,
          56,
          6656,
          16,
          18,
          821,
          4399,
          16,
          42627,
          8099,
          120,
          1147,
          3399,
          30941,
          8448,
          67307,
          10794,
          8,
          15996,
          2198,
          27581,
          713,
          547,
          60,
          22520,
          15362,
          209688,
          284,
          39048,
          1363,
          1709,
          23336,
          307,
          958,
          628,
          1054,
          10114,
          156,
          208,
          10,
          1457,
          1457,
          26322,
          172,
          76,
          11,
          47,
          12,
          322,
          174,
          3015,
          612,
          24,
          116,
          1032,
          138657,
          440,
          509,
          121,
          15232,
          707,
          1329799,
          2418,
          12,
          17,
          414,
          7,
          69,
          288,
          870,
          51,
          10015,
          267,
          36
         ]
        }
       ],
       "layout": {
        "annotations": [
         {
          "showarrow": false,
          "text": "Source:<a href=\"https://covid19.who.int/\">                         WHO | World health Organization</a>",
          "x": 0.5,
          "xref": "paper",
          "y": 0.15,
          "yref": "paper"
         }
        ],
        "geo": {
         "landcolor": "#c1bfbf",
         "projection": {
          "type": "equirectangular"
         },
         "showcoastlines": false,
         "showframe": true,
         "showland": true
        },
        "showlegend": true,
        "template": {
         "data": {
          "bar": [
           {
            "error_x": {
             "color": "#2a3f5f"
            },
            "error_y": {
             "color": "#2a3f5f"
            },
            "marker": {
             "line": {
              "color": "#E5ECF6",
              "width": 0.5
             }
            },
            "type": "bar"
           }
          ],
          "barpolar": [
           {
            "marker": {
             "line": {
              "color": "#E5ECF6",
              "width": 0.5
             }
            },
            "type": "barpolar"
           }
          ],
          "carpet": [
           {
            "aaxis": {
             "endlinecolor": "#2a3f5f",
             "gridcolor": "white",
             "linecolor": "white",
             "minorgridcolor": "white",
             "startlinecolor": "#2a3f5f"
            },
            "baxis": {
             "endlinecolor": "#2a3f5f",
             "gridcolor": "white",
             "linecolor": "white",
             "minorgridcolor": "white",
             "startlinecolor": "#2a3f5f"
            },
            "type": "carpet"
           }
          ],
          "choropleth": [
           {
            "colorbar": {
             "outlinewidth": 0,
             "ticks": ""
            },
            "type": "choropleth"
           }
          ],
          "contour": [
           {
            "colorbar": {
             "outlinewidth": 0,
             "ticks": ""
            },
            "colorscale": [
             [
              0,
              "#0d0887"
             ],
             [
              0.1111111111111111,
              "#46039f"
             ],
             [
              0.2222222222222222,
              "#7201a8"
             ],
             [
              0.3333333333333333,
              "#9c179e"
             ],
             [
              0.4444444444444444,
              "#bd3786"
             ],
             [
              0.5555555555555556,
              "#d8576b"
             ],
             [
              0.6666666666666666,
              "#ed7953"
             ],
             [
              0.7777777777777778,
              "#fb9f3a"
             ],
             [
              0.8888888888888888,
              "#fdca26"
             ],
             [
              1,
              "#f0f921"
             ]
            ],
            "type": "contour"
           }
          ],
          "contourcarpet": [
           {
            "colorbar": {
             "outlinewidth": 0,
             "ticks": ""
            },
            "type": "contourcarpet"
           }
          ],
          "heatmap": [
           {
            "colorbar": {
             "outlinewidth": 0,
             "ticks": ""
            },
            "colorscale": [
             [
              0,
              "#0d0887"
             ],
             [
              0.1111111111111111,
              "#46039f"
             ],
             [
              0.2222222222222222,
              "#7201a8"
             ],
             [
              0.3333333333333333,
              "#9c179e"
             ],
             [
              0.4444444444444444,
              "#bd3786"
             ],
             [
              0.5555555555555556,
              "#d8576b"
             ],
             [
              0.6666666666666666,
              "#ed7953"
             ],
             [
              0.7777777777777778,
              "#fb9f3a"
             ],
             [
              0.8888888888888888,
              "#fdca26"
             ],
             [
              1,
              "#f0f921"
             ]
            ],
            "type": "heatmap"
           }
          ],
          "heatmapgl": [
           {
            "colorbar": {
             "outlinewidth": 0,
             "ticks": ""
            },
            "colorscale": [
             [
              0,
              "#0d0887"
             ],
             [
              0.1111111111111111,
              "#46039f"
             ],
             [
              0.2222222222222222,
              "#7201a8"
             ],
             [
              0.3333333333333333,
              "#9c179e"
             ],
             [
              0.4444444444444444,
              "#bd3786"
             ],
             [
              0.5555555555555556,
              "#d8576b"
             ],
             [
              0.6666666666666666,
              "#ed7953"
             ],
             [
              0.7777777777777778,
              "#fb9f3a"
             ],
             [
              0.8888888888888888,
              "#fdca26"
             ],
             [
              1,
              "#f0f921"
             ]
            ],
            "type": "heatmapgl"
           }
          ],
          "histogram": [
           {
            "marker": {
             "colorbar": {
              "outlinewidth": 0,
              "ticks": ""
             }
            },
            "type": "histogram"
           }
          ],
          "histogram2d": [
           {
            "colorbar": {
             "outlinewidth": 0,
             "ticks": ""
            },
            "colorscale": [
             [
              0,
              "#0d0887"
             ],
             [
              0.1111111111111111,
              "#46039f"
             ],
             [
              0.2222222222222222,
              "#7201a8"
             ],
             [
              0.3333333333333333,
              "#9c179e"
             ],
             [
              0.4444444444444444,
              "#bd3786"
             ],
             [
              0.5555555555555556,
              "#d8576b"
             ],
             [
              0.6666666666666666,
              "#ed7953"
             ],
             [
              0.7777777777777778,
              "#fb9f3a"
             ],
             [
              0.8888888888888888,
              "#fdca26"
             ],
             [
              1,
              "#f0f921"
             ]
            ],
            "type": "histogram2d"
           }
          ],
          "histogram2dcontour": [
           {
            "colorbar": {
             "outlinewidth": 0,
             "ticks": ""
            },
            "colorscale": [
             [
              0,
              "#0d0887"
             ],
             [
              0.1111111111111111,
              "#46039f"
             ],
             [
              0.2222222222222222,
              "#7201a8"
             ],
             [
              0.3333333333333333,
              "#9c179e"
             ],
             [
              0.4444444444444444,
              "#bd3786"
             ],
             [
              0.5555555555555556,
              "#d8576b"
             ],
             [
              0.6666666666666666,
              "#ed7953"
             ],
             [
              0.7777777777777778,
              "#fb9f3a"
             ],
             [
              0.8888888888888888,
              "#fdca26"
             ],
             [
              1,
              "#f0f921"
             ]
            ],
            "type": "histogram2dcontour"
           }
          ],
          "mesh3d": [
           {
            "colorbar": {
             "outlinewidth": 0,
             "ticks": ""
            },
            "type": "mesh3d"
           }
          ],
          "parcoords": [
           {
            "line": {
             "colorbar": {
              "outlinewidth": 0,
              "ticks": ""
             }
            },
            "type": "parcoords"
           }
          ],
          "pie": [
           {
            "automargin": true,
            "type": "pie"
           }
          ],
          "scatter": [
           {
            "marker": {
             "colorbar": {
              "outlinewidth": 0,
              "ticks": ""
             }
            },
            "type": "scatter"
           }
          ],
          "scatter3d": [
           {
            "line": {
             "colorbar": {
              "outlinewidth": 0,
              "ticks": ""
             }
            },
            "marker": {
             "colorbar": {
              "outlinewidth": 0,
              "ticks": ""
             }
            },
            "type": "scatter3d"
           }
          ],
          "scattercarpet": [
           {
            "marker": {
             "colorbar": {
              "outlinewidth": 0,
              "ticks": ""
             }
            },
            "type": "scattercarpet"
           }
          ],
          "scattergeo": [
           {
            "marker": {
             "colorbar": {
              "outlinewidth": 0,
              "ticks": ""
             }
            },
            "type": "scattergeo"
           }
          ],
          "scattergl": [
           {
            "marker": {
             "colorbar": {
              "outlinewidth": 0,
              "ticks": ""
             }
            },
            "type": "scattergl"
           }
          ],
          "scattermapbox": [
           {
            "marker": {
             "colorbar": {
              "outlinewidth": 0,
              "ticks": ""
             }
            },
            "type": "scattermapbox"
           }
          ],
          "scatterpolar": [
           {
            "marker": {
             "colorbar": {
              "outlinewidth": 0,
              "ticks": ""
             }
            },
            "type": "scatterpolar"
           }
          ],
          "scatterpolargl": [
           {
            "marker": {
             "colorbar": {
              "outlinewidth": 0,
              "ticks": ""
             }
            },
            "type": "scatterpolargl"
           }
          ],
          "scatterternary": [
           {
            "marker": {
             "colorbar": {
              "outlinewidth": 0,
              "ticks": ""
             }
            },
            "type": "scatterternary"
           }
          ],
          "surface": [
           {
            "colorbar": {
             "outlinewidth": 0,
             "ticks": ""
            },
            "colorscale": [
             [
              0,
              "#0d0887"
             ],
             [
              0.1111111111111111,
              "#46039f"
             ],
             [
              0.2222222222222222,
              "#7201a8"
             ],
             [
              0.3333333333333333,
              "#9c179e"
             ],
             [
              0.4444444444444444,
              "#bd3786"
             ],
             [
              0.5555555555555556,
              "#d8576b"
             ],
             [
              0.6666666666666666,
              "#ed7953"
             ],
             [
              0.7777777777777778,
              "#fb9f3a"
             ],
             [
              0.8888888888888888,
              "#fdca26"
             ],
             [
              1,
              "#f0f921"
             ]
            ],
            "type": "surface"
           }
          ],
          "table": [
           {
            "cells": {
             "fill": {
              "color": "#EBF0F8"
             },
             "line": {
              "color": "white"
             }
            },
            "header": {
             "fill": {
              "color": "#C8D4E3"
             },
             "line": {
              "color": "white"
             }
            },
            "type": "table"
           }
          ]
         },
         "layout": {
          "annotationdefaults": {
           "arrowcolor": "#2a3f5f",
           "arrowhead": 0,
           "arrowwidth": 1
          },
          "coloraxis": {
           "colorbar": {
            "outlinewidth": 0,
            "ticks": ""
           }
          },
          "colorscale": {
           "diverging": [
            [
             0,
             "#8e0152"
            ],
            [
             0.1,
             "#c51b7d"
            ],
            [
             0.2,
             "#de77ae"
            ],
            [
             0.3,
             "#f1b6da"
            ],
            [
             0.4,
             "#fde0ef"
            ],
            [
             0.5,
             "#f7f7f7"
            ],
            [
             0.6,
             "#e6f5d0"
            ],
            [
             0.7,
             "#b8e186"
            ],
            [
             0.8,
             "#7fbc41"
            ],
            [
             0.9,
             "#4d9221"
            ],
            [
             1,
             "#276419"
            ]
           ],
           "sequential": [
            [
             0,
             "#0d0887"
            ],
            [
             0.1111111111111111,
             "#46039f"
            ],
            [
             0.2222222222222222,
             "#7201a8"
            ],
            [
             0.3333333333333333,
             "#9c179e"
            ],
            [
             0.4444444444444444,
             "#bd3786"
            ],
            [
             0.5555555555555556,
             "#d8576b"
            ],
            [
             0.6666666666666666,
             "#ed7953"
            ],
            [
             0.7777777777777778,
             "#fb9f3a"
            ],
            [
             0.8888888888888888,
             "#fdca26"
            ],
            [
             1,
             "#f0f921"
            ]
           ],
           "sequentialminus": [
            [
             0,
             "#0d0887"
            ],
            [
             0.1111111111111111,
             "#46039f"
            ],
            [
             0.2222222222222222,
             "#7201a8"
            ],
            [
             0.3333333333333333,
             "#9c179e"
            ],
            [
             0.4444444444444444,
             "#bd3786"
            ],
            [
             0.5555555555555556,
             "#d8576b"
            ],
            [
             0.6666666666666666,
             "#ed7953"
            ],
            [
             0.7777777777777778,
             "#fb9f3a"
            ],
            [
             0.8888888888888888,
             "#fdca26"
            ],
            [
             1,
             "#f0f921"
            ]
           ]
          },
          "colorway": [
           "#636efa",
           "#EF553B",
           "#00cc96",
           "#ab63fa",
           "#FFA15A",
           "#19d3f3",
           "#FF6692",
           "#B6E880",
           "#FF97FF",
           "#FECB52"
          ],
          "font": {
           "color": "#2a3f5f"
          },
          "geo": {
           "bgcolor": "white",
           "lakecolor": "white",
           "landcolor": "#E5ECF6",
           "showlakes": true,
           "showland": true,
           "subunitcolor": "white"
          },
          "hoverlabel": {
           "align": "left"
          },
          "hovermode": "closest",
          "mapbox": {
           "style": "light"
          },
          "paper_bgcolor": "white",
          "plot_bgcolor": "#E5ECF6",
          "polar": {
           "angularaxis": {
            "gridcolor": "white",
            "linecolor": "white",
            "ticks": ""
           },
           "bgcolor": "#E5ECF6",
           "radialaxis": {
            "gridcolor": "white",
            "linecolor": "white",
            "ticks": ""
           }
          },
          "scene": {
           "xaxis": {
            "backgroundcolor": "#E5ECF6",
            "gridcolor": "white",
            "gridwidth": 2,
            "linecolor": "white",
            "showbackground": true,
            "ticks": "",
            "zerolinecolor": "white"
           },
           "yaxis": {
            "backgroundcolor": "#E5ECF6",
            "gridcolor": "white",
            "gridwidth": 2,
            "linecolor": "white",
            "showbackground": true,
            "ticks": "",
            "zerolinecolor": "white"
           },
           "zaxis": {
            "backgroundcolor": "#E5ECF6",
            "gridcolor": "white",
            "gridwidth": 2,
            "linecolor": "white",
            "showbackground": true,
            "ticks": "",
            "zerolinecolor": "white"
           }
          },
          "shapedefaults": {
           "line": {
            "color": "#2a3f5f"
           }
          },
          "ternary": {
           "aaxis": {
            "gridcolor": "white",
            "linecolor": "white",
            "ticks": ""
           },
           "baxis": {
            "gridcolor": "white",
            "linecolor": "white",
            "ticks": ""
           },
           "bgcolor": "#E5ECF6",
           "caxis": {
            "gridcolor": "white",
            "linecolor": "white",
            "ticks": ""
           }
          },
          "title": {
           "x": 0.05
          },
          "xaxis": {
           "automargin": true,
           "gridcolor": "white",
           "linecolor": "white",
           "ticks": "",
           "title": {
            "standoff": 15
           },
           "zerolinecolor": "white",
           "zerolinewidth": 2
          },
          "yaxis": {
           "automargin": true,
           "gridcolor": "white",
           "linecolor": "white",
           "ticks": "",
           "title": {
            "standoff": 15
           },
           "zerolinecolor": "white",
           "zerolinewidth": 2
          }
         }
        },
        "title": {
         "text": "Impact of Covid-19 across the Globe"
        },
        "updatemenus": [
         {
          "active": 0,
          "buttons": [
           {
            "args": [
             {
              "visible": [
               false,
               true
              ]
             },
             {
              "title": "Cases"
             }
            ],
            "label": "Cases",
            "method": "update"
           },
           {
            "args": [
             {
              "visible": [
               true,
               false
              ]
             },
             {
              "title": "Deaths"
             }
            ],
            "label": "Deaths",
            "method": "update"
           }
          ]
         }
        ]
       }
      },
      "text/html": [
       "<div>\n",
       "        \n",
       "        \n",
       "            <div id=\"a0b644d7-9f0c-437a-9cf8-725c67f3b655\" class=\"plotly-graph-div\" style=\"height:525px; width:100%;\"></div>\n",
       "            <script type=\"text/javascript\">\n",
       "                require([\"plotly\"], function(Plotly) {\n",
       "                    window.PLOTLYENV=window.PLOTLYENV || {};\n",
       "                    \n",
       "                if (document.getElementById(\"a0b644d7-9f0c-437a-9cf8-725c67f3b655\")) {\n",
       "                    Plotly.newPlot(\n",
       "                        'a0b644d7-9f0c-437a-9cf8-725c67f3b655',\n",
       "                        [{\"autocolorscale\": false, \"colorbar\": {\"title\": {\"text\": \"Deaths\"}}, \"colorscale\": [[0.0, \"rgb(255,245,235)\"], [0.125, \"rgb(254,230,206)\"], [0.25, \"rgb(253,208,162)\"], [0.375, \"rgb(253,174,107)\"], [0.5, \"rgb(253,141,60)\"], [0.625, \"rgb(241,105,19)\"], [0.75, \"rgb(217,72,1)\"], [0.875, \"rgb(166,54,3)\"], [1.0, \"rgb(127,39,4)\"]], \"locations\": [\"ABW\", \"AFG\", \"AGO\", \"ALB\", \"AND\", \"ARE\", \"ARG\", \"ARM\", \"ATG\", \"AUS\", \"AUT\", \"AZE\", \"BDI\", \"BEL\", \"BEN\", \"BFA\", \"BGD\", \"BGR\", \"BHR\", \"BHS\", \"BIH\", \"BLR\", \"BLZ\", \"BMU\", \"BOL\", \"BRA\", \"BRB\", \"BRN\", \"BTN\", \"BWA\", \"CAF\", \"CAN\", \"CHE\", \"CHL\", \"CHN\", \"CIV\", \"CMR\", \"COD\", \"COG\", \"COL\", \"COM\", \"CPV\", \"CRI\", \"CUB\", \"CUW\", \"CYM\", \"CYP\", \"CZE\", \"DEU\", \"DJI\", \"DMA\", \"DNK\", \"DOM\", \"DZA\", \"ECU\", \"EGY\", \"ERI\", \"ESP\", \"EST\", \"ETH\", \"FIN\", \"FJI\", \"FRA\", \"FRO\", \"GAB\", \"GBR\", \"GEO\", \"GGY\", \"GHA\", \"GIB\", \"GIN\", \"GMB\", \"GNB\", \"GNQ\", \"GRC\", \"GRD\", \"GRL\", \"GTM\", \"GUM\", \"GUY\", \"HND\", \"HRV\", \"HTI\", \"HUN\", \"IDN\", \"IMN\", \"IND\", \"IRL\", \"IRN\", \"IRQ\", \"ISL\", \"ISR\", \"ITA\", \"JAM\", \"JEY\", \"JOR\", \"JPN\", \"KAZ\", \"KEN\", \"KGZ\", \"KHM\", \"KNA\", \"KOR\", \"KWT\", \"LAO\", \"LBN\", \"LBR\", \"LBY\", \"LCA\", \"LIE\", \"LKA\", \"LTU\", \"LUX\", \"LVA\", \"MAR\", \"MCO\", \"MDA\", \"MDG\", \"MDV\", \"MEX\", \"MKD\", \"MLI\", \"MLT\", \"MMR\", \"MNE\", \"MNG\", \"MNP\", \"MOZ\", \"MRT\", \"MSR\", \"MUS\", \"MWI\", \"MYS\", \"NAM\", \"NCL\", \"NER\", \"NGA\", \"NIC\", \"NLD\", \"NOR\", \"NPL\", \"NZL\", \"OMN\", \"PAK\", \"PAN\", \"PER\", \"PHL\", \"PNG\", \"POL\", \"PRI\", \"PRT\", \"PRY\", \"PSE\", \"PYF\", \"QAT\", \"ROU\", \"RUS\", \"RWA\", \"SAU\", \"SDN\", \"SEN\", \"SGP\", \"SLE\", \"SLV\", \"SMR\", \"SOM\", \"SRB\", \"SSD\", \"STP\", \"SUR\", \"SVK\", \"SVN\", \"SWE\", \"SWZ\", \"SXM\", \"SYC\", \"SYR\", \"TCA\", \"TCD\", \"TGO\", \"THA\", \"TJK\", \"TLS\", \"TTO\", \"TUN\", \"TUR\", \"TWN\", \"TZA\", \"UGA\", \"UKR\", \"URY\", \"USA\", \"UZB\", \"VAT\", \"VCT\", \"VEN\", \"VGB\", \"VIR\", \"VNM\", \"XKX\", \"YEM\", \"ZAF\", \"ZMB\", \"ZWE\"], \"marker\": {\"line\": {\"color\": \"darkgray\", \"width\": 0.5}}, \"reversescale\": false, \"text\": [\"Aruba\", \"Afghanistan\", \"Angola\", \"Albania\", \"Andorra\", \"United_Arab_Emirates\", \"Argentina\", \"Armenia\", \"Antigua_and_Barbuda\", \"Australia\", \"Austria\", \"Azerbaijan\", \"Burundi\", \"Belgium\", \"Benin\", \"Burkina_Faso\", \"Bangladesh\", \"Bulgaria\", \"Bahrain\", \"Bahamas\", \"Bosnia_and_Herzegovina\", \"Belarus\", \"Belize\", \"Bermuda\", \"Bolivia\", \"Brazil\", \"Barbados\", \"Brunei_Darussalam\", \"Bhutan\", \"Botswana\", \"Central_African_Republic\", \"Canada\", \"Switzerland\", \"Chile\", \"China\", \"Cote_dIvoire\", \"Cameroon\", \"Democratic_Republic_of_the_Congo\", \"Congo\", \"Colombia\", \"Comoros\", \"Cape_Verde\", \"Costa_Rica\", \"Cuba\", \"Cura\\u00e7ao\", \"Cayman_Islands\", \"Cyprus\", \"Czechia\", \"Germany\", \"Djibouti\", \"Dominica\", \"Denmark\", \"Dominican_Republic\", \"Algeria\", \"Ecuador\", \"Egypt\", \"Eritrea\", \"Spain\", \"Estonia\", \"Ethiopia\", \"Finland\", \"Fiji\", \"France\", \"Faroe_Islands\", \"Gabon\", \"United_Kingdom\", \"Georgia\", \"Guernsey\", \"Ghana\", \"Gibraltar\", \"Guinea\", \"Gambia\", \"Guinea_Bissau\", \"Equatorial_Guinea\", \"Greece\", \"Grenada\", \"Greenland\", \"Guatemala\", \"Guam\", \"Guyana\", \"Honduras\", \"Croatia\", \"Haiti\", \"Hungary\", \"Indonesia\", \"Isle_of_Man\", \"India\", \"Ireland\", \"Iran\", \"Iraq\", \"Iceland\", \"Israel\", \"Italy\", \"Jamaica\", \"Jersey\", \"Jordan\", \"Japan\", \"Kazakhstan\", \"Kenya\", \"Kyrgyzstan\", \"Cambodia\", \"Saint_Kitts_and_Nevis\", \"South_Korea\", \"Kuwait\", \"Laos\", \"Lebanon\", \"Liberia\", \"Libya\", \"Saint_Lucia\", \"Liechtenstein\", \"Sri_Lanka\", \"Lithuania\", \"Luxembourg\", \"Latvia\", \"Morocco\", \"Monaco\", \"Moldova\", \"Madagascar\", \"Maldives\", \"Mexico\", \"North_Macedonia\", \"Mali\", \"Malta\", \"Myanmar\", \"Montenegro\", \"Mongolia\", \"Northern_Mariana_Islands\", \"Mozambique\", \"Mauritania\", \"Montserrat\", \"Mauritius\", \"Malawi\", \"Malaysia\", \"Namibia\", \"New_Caledonia\", \"Niger\", \"Nigeria\", \"Nicaragua\", \"Netherlands\", \"Norway\", \"Nepal\", \"New_Zealand\", \"Oman\", \"Pakistan\", \"Panama\", \"Peru\", \"Philippines\", \"Papua_New_Guinea\", \"Poland\", \"Puerto_Rico\", \"Portugal\", \"Paraguay\", \"Palestine\", \"French_Polynesia\", \"Qatar\", \"Romania\", \"Russia\", \"Rwanda\", \"Saudi_Arabia\", \"Sudan\", \"Senegal\", \"Singapore\", \"Sierra_Leone\", \"El_Salvador\", \"San_Marino\", \"Somalia\", \"Serbia\", \"South_Sudan\", \"Sao_Tome_and_Principe\", \"Suriname\", \"Slovakia\", \"Slovenia\", \"Sweden\", \"Eswatini\", \"Sint_Maarten\", \"Seychelles\", \"Syria\", \"Turks_and_Caicos_islands\", \"Chad\", \"Togo\", \"Thailand\", \"Tajikistan\", \"Timor_Leste\", \"Trinidad_and_Tobago\", \"Tunisia\", \"Turkey\", \"Taiwan\", \"United_Republic_of_Tanzania\", \"Uganda\", \"Ukraine\", \"Uruguay\", \"United_States_of_America\", \"Uzbekistan\", \"Holy_See\", \"Saint_Vincent_and_the_Grenadines\", \"Venezuela\", \"British_Virgin_Islands\", \"United_States_Virgin_Islands\", \"Vietnam\", \"Kosovo\", \"Yemen\", \"South_Africa\", \"Zambia\", \"Zimbabwe\"], \"type\": \"choropleth\", \"z\": [3, 120, 2, 31, 48, 198, 300, 45, 3, 97, 618, 32, 1, 8656, 2, 49, 228, 91, 8, 11, 102, 131, 2, 7, 118, 11123, 7, 1, 0, 1, 0, 4871, 1537, 312, 4637, 21, 114, 41, 10, 463, 1, 2, 6, 77, 1, 1, 22, 280, 7417, 3, 0, 529, 388, 502, 2127, 525, 0, 26621, 60, 5, 267, 0, 26380, 0, 8, 31855, 10, 13, 22, 0, 11, 1, 3, 4, 151, 0, 0, 26, 5, 10, 108, 90, 15, 421, 973, 23, 2206, 1458, 6640, 109, 10, 252, 30560, 9, 25, 9, 621, 31, 32, 12, 0, 0, 256, 58, 0, 26, 20, 3, 0, 1, 9, 50, 101, 18, 188, 4, 169, 0, 3, 3465, 91, 38, 5, 6, 9, 0, 2, 0, 1, 1, 10, 3, 108, 0, 0, 46, 143, 5, 5440, 217, 0, 21, 17, 667, 244, 1889, 719, 0, 800, 111, 1135, 10, 4, 0, 14, 952, 1915, 0, 246, 70, 19, 20, 18, 17, 41, 51, 215, 0, 5, 1, 26, 102, 3225, 2, 15, 0, 3, 1, 31, 11, 56, 20, 0, 8, 45, 3786, 6, 21, 0, 391, 19, 79528, 10, 0, 0, 10, 1, 4, 0, 28, 8, 194, 7, 4]}, {\"autocolorscale\": false, \"colorbar\": {\"title\": {\"text\": \"Cases\"}}, \"colorscale\": [[0.0, \"rgb(255,245,240)\"], [0.125, \"rgb(254,224,210)\"], [0.25, \"rgb(252,187,161)\"], [0.375, \"rgb(252,146,114)\"], [0.5, \"rgb(251,106,74)\"], [0.625, \"rgb(239,59,44)\"], [0.75, \"rgb(203,24,29)\"], [0.875, \"rgb(165,15,21)\"], [1.0, \"rgb(103,0,13)\"]], \"locations\": [\"ABW\", \"AFG\", \"AGO\", \"ALB\", \"AND\", \"ARE\", \"ARG\", \"ARM\", \"ATG\", \"AUS\", \"AUT\", \"AZE\", \"BDI\", \"BEL\", \"BEN\", \"BFA\", \"BGD\", \"BGR\", \"BHR\", \"BHS\", \"BIH\", \"BLR\", \"BLZ\", \"BMU\", \"BOL\", \"BRA\", \"BRB\", \"BRN\", \"BTN\", \"BWA\", \"CAF\", \"CAN\", \"CHE\", \"CHL\", \"CHN\", \"CIV\", \"CMR\", \"COD\", \"COG\", \"COL\", \"COM\", \"CPV\", \"CRI\", \"CUB\", \"CUW\", \"CYM\", \"CYP\", \"CZE\", \"DEU\", \"DJI\", \"DMA\", \"DNK\", \"DOM\", \"DZA\", \"ECU\", \"EGY\", \"ERI\", \"ESP\", \"EST\", \"ETH\", \"FIN\", \"FJI\", \"FRA\", \"FRO\", \"GAB\", \"GBR\", \"GEO\", \"GGY\", \"GHA\", \"GIB\", \"GIN\", \"GMB\", \"GNB\", \"GNQ\", \"GRC\", \"GRD\", \"GRL\", \"GTM\", \"GUM\", \"GUY\", \"HND\", \"HRV\", \"HTI\", \"HUN\", \"IDN\", \"IMN\", \"IND\", \"IRL\", \"IRN\", \"IRQ\", \"ISL\", \"ISR\", \"ITA\", \"JAM\", \"JEY\", \"JOR\", \"JPN\", \"KAZ\", \"KEN\", \"KGZ\", \"KHM\", \"KNA\", \"KOR\", \"KWT\", \"LAO\", \"LBN\", \"LBR\", \"LBY\", \"LCA\", \"LIE\", \"LKA\", \"LTU\", \"LUX\", \"LVA\", \"MAR\", \"MCO\", \"MDA\", \"MDG\", \"MDV\", \"MEX\", \"MKD\", \"MLI\", \"MLT\", \"MMR\", \"MNE\", \"MNG\", \"MNP\", \"MOZ\", \"MRT\", \"MSR\", \"MUS\", \"MWI\", \"MYS\", \"NAM\", \"NCL\", \"NER\", \"NGA\", \"NIC\", \"NLD\", \"NOR\", \"NPL\", \"NZL\", \"OMN\", \"PAK\", \"PAN\", \"PER\", \"PHL\", \"PNG\", \"POL\", \"PRI\", \"PRT\", \"PRY\", \"PSE\", \"PYF\", \"QAT\", \"ROU\", \"RUS\", \"RWA\", \"SAU\", \"SDN\", \"SEN\", \"SGP\", \"SLE\", \"SLV\", \"SMR\", \"SOM\", \"SRB\", \"SSD\", \"STP\", \"SUR\", \"SVK\", \"SVN\", \"SWE\", \"SWZ\", \"SXM\", \"SYC\", \"SYR\", \"TCA\", \"TCD\", \"TGO\", \"THA\", \"TJK\", \"TLS\", \"TTO\", \"TUN\", \"TUR\", \"TWN\", \"TZA\", \"UGA\", \"UKR\", \"URY\", \"USA\", \"UZB\", \"VAT\", \"VCT\", \"VEN\", \"VGB\", \"VIR\", \"VNM\", \"XKX\", \"YEM\", \"ZAF\", \"ZMB\", \"ZWE\"], \"marker\": {\"line\": {\"color\": \"darkgray\", \"width\": 0.5}}, \"reversescale\": false, \"text\": [\"Aruba\", \"Afghanistan\", \"Angola\", \"Albania\", \"Andorra\", \"United_Arab_Emirates\", \"Argentina\", \"Armenia\", \"Antigua_and_Barbuda\", \"Australia\", \"Austria\", \"Azerbaijan\", \"Burundi\", \"Belgium\", \"Benin\", \"Burkina_Faso\", \"Bangladesh\", \"Bulgaria\", \"Bahrain\", \"Bahamas\", \"Bosnia_and_Herzegovina\", \"Belarus\", \"Belize\", \"Bermuda\", \"Bolivia\", \"Brazil\", \"Barbados\", \"Brunei_Darussalam\", \"Bhutan\", \"Botswana\", \"Central_African_Republic\", \"Canada\", \"Switzerland\", \"Chile\", \"China\", \"Cote_dIvoire\", \"Cameroon\", \"Democratic_Republic_of_the_Congo\", \"Congo\", \"Colombia\", \"Comoros\", \"Cape_Verde\", \"Costa_Rica\", \"Cuba\", \"Cura\\u00e7ao\", \"Cayman_Islands\", \"Cyprus\", \"Czechia\", \"Germany\", \"Djibouti\", \"Dominica\", \"Denmark\", \"Dominican_Republic\", \"Algeria\", \"Ecuador\", \"Egypt\", \"Eritrea\", \"Spain\", \"Estonia\", \"Ethiopia\", \"Finland\", \"Fiji\", \"France\", \"Faroe_Islands\", \"Gabon\", \"United_Kingdom\", \"Georgia\", \"Guernsey\", \"Ghana\", \"Gibraltar\", \"Guinea\", \"Gambia\", \"Guinea_Bissau\", \"Equatorial_Guinea\", \"Greece\", \"Grenada\", \"Greenland\", \"Guatemala\", \"Guam\", \"Guyana\", \"Honduras\", \"Croatia\", \"Haiti\", \"Hungary\", \"Indonesia\", \"Isle_of_Man\", \"India\", \"Ireland\", \"Iran\", \"Iraq\", \"Iceland\", \"Israel\", \"Italy\", \"Jamaica\", \"Jersey\", \"Jordan\", \"Japan\", \"Kazakhstan\", \"Kenya\", \"Kyrgyzstan\", \"Cambodia\", \"Saint_Kitts_and_Nevis\", \"South_Korea\", \"Kuwait\", \"Laos\", \"Lebanon\", \"Liberia\", \"Libya\", \"Saint_Lucia\", \"Liechtenstein\", \"Sri_Lanka\", \"Lithuania\", \"Luxembourg\", \"Latvia\", \"Morocco\", \"Monaco\", \"Moldova\", \"Madagascar\", \"Maldives\", \"Mexico\", \"North_Macedonia\", \"Mali\", \"Malta\", \"Myanmar\", \"Montenegro\", \"Mongolia\", \"Northern_Mariana_Islands\", \"Mozambique\", \"Mauritania\", \"Montserrat\", \"Mauritius\", \"Malawi\", \"Malaysia\", \"Namibia\", \"New_Caledonia\", \"Niger\", \"Nigeria\", \"Nicaragua\", \"Netherlands\", \"Norway\", \"Nepal\", \"New_Zealand\", \"Oman\", \"Pakistan\", \"Panama\", \"Peru\", \"Philippines\", \"Papua_New_Guinea\", \"Poland\", \"Puerto_Rico\", \"Portugal\", \"Paraguay\", \"Palestine\", \"French_Polynesia\", \"Qatar\", \"Romania\", \"Russia\", \"Rwanda\", \"Saudi_Arabia\", \"Sudan\", \"Senegal\", \"Singapore\", \"Sierra_Leone\", \"El_Salvador\", \"San_Marino\", \"Somalia\", \"Serbia\", \"South_Sudan\", \"Sao_Tome_and_Principe\", \"Suriname\", \"Slovakia\", \"Slovenia\", \"Sweden\", \"Eswatini\", \"Sint_Maarten\", \"Seychelles\", \"Syria\", \"Turks_and_Caicos_islands\", \"Chad\", \"Togo\", \"Thailand\", \"Tajikistan\", \"Timor_Leste\", \"Trinidad_and_Tobago\", \"Tunisia\", \"Turkey\", \"Taiwan\", \"United_Republic_of_Tanzania\", \"Uganda\", \"Ukraine\", \"Uruguay\", \"United_States_of_America\", \"Uzbekistan\", \"Holy_See\", \"Saint_Vincent_and_the_Grenadines\", \"Venezuela\", \"British_Virgin_Islands\", \"United_States_Virgin_Islands\", \"Vietnam\", \"Kosovo\", \"Yemen\", \"South_Africa\", \"Zambia\", \"Zimbabwe\"], \"type\": \"choropleth\", \"z\": [101, 4402, 45, 868, 755, 18198, 5776, 3313, 25, 6941, 15787, 2519, 19, 53081, 319, 751, 14657, 1965, 4941, 92, 2090, 22973, 18, 118, 2556, 162699, 84, 141, 9, 23, 179, 68848, 30222, 28866, 84010, 1700, 2579, 1024, 287, 11063, 11, 246, 792, 1766, 16, 81, 898, 8123, 169575, 1210, 16, 10429, 10347, 5723, 29559, 9400, 39, 224390, 1739, 239, 5962, 18, 139063, 187, 661, 219183, 635, 252, 4263, 146, 2146, 20, 726, 439, 2716, 21, 11, 1052, 151, 104, 1972, 2187, 182, 3284, 14032, 330, 67152, 22996, 107603, 2767, 1801, 16477, 219070, 502, 294, 540, 15798, 5126, 672, 1016, 122, 15, 10909, 8688, 19, 845, 199, 64, 18, 83, 863, 1479, 3886, 939, 6063, 96, 4927, 193, 835, 35022, 1642, 704, 496, 180, 324, 42, 16, 91, 8, 11, 332, 56, 6656, 16, 18, 821, 4399, 16, 42627, 8099, 120, 1147, 3399, 30941, 8448, 67307, 10794, 8, 15996, 2198, 27581, 713, 547, 60, 22520, 15362, 209688, 284, 39048, 1363, 1709, 23336, 307, 958, 628, 1054, 10114, 156, 208, 10, 1457, 1457, 26322, 172, 76, 11, 47, 12, 322, 174, 3015, 612, 24, 116, 1032, 138657, 440, 509, 121, 15232, 707, 1329799, 2418, 12, 17, 414, 7, 69, 288, 870, 51, 10015, 267, 36]}],\n",
       "                        {\"annotations\": [{\"showarrow\": false, \"text\": \"Source:<a href=\\\"https://covid19.who.int/\\\">                         WHO | World health Organization</a>\", \"x\": 0.5, \"xref\": \"paper\", \"y\": 0.15, \"yref\": \"paper\"}], \"geo\": {\"landcolor\": \"#c1bfbf\", \"projection\": {\"type\": \"equirectangular\"}, \"showcoastlines\": false, \"showframe\": true, \"showland\": true}, \"showlegend\": true, \"template\": {\"data\": {\"bar\": [{\"error_x\": {\"color\": \"#2a3f5f\"}, \"error_y\": {\"color\": \"#2a3f5f\"}, \"marker\": {\"line\": {\"color\": \"#E5ECF6\", \"width\": 0.5}}, \"type\": \"bar\"}], \"barpolar\": [{\"marker\": {\"line\": {\"color\": \"#E5ECF6\", \"width\": 0.5}}, \"type\": \"barpolar\"}], \"carpet\": [{\"aaxis\": {\"endlinecolor\": \"#2a3f5f\", \"gridcolor\": \"white\", \"linecolor\": \"white\", \"minorgridcolor\": \"white\", \"startlinecolor\": \"#2a3f5f\"}, \"baxis\": {\"endlinecolor\": \"#2a3f5f\", \"gridcolor\": \"white\", \"linecolor\": \"white\", \"minorgridcolor\": \"white\", \"startlinecolor\": \"#2a3f5f\"}, \"type\": \"carpet\"}], \"choropleth\": [{\"colorbar\": {\"outlinewidth\": 0, \"ticks\": \"\"}, \"type\": \"choropleth\"}], \"contour\": [{\"colorbar\": {\"outlinewidth\": 0, \"ticks\": \"\"}, \"colorscale\": [[0.0, \"#0d0887\"], [0.1111111111111111, \"#46039f\"], [0.2222222222222222, \"#7201a8\"], [0.3333333333333333, \"#9c179e\"], [0.4444444444444444, \"#bd3786\"], [0.5555555555555556, \"#d8576b\"], [0.6666666666666666, \"#ed7953\"], [0.7777777777777778, \"#fb9f3a\"], [0.8888888888888888, \"#fdca26\"], [1.0, \"#f0f921\"]], \"type\": \"contour\"}], \"contourcarpet\": [{\"colorbar\": {\"outlinewidth\": 0, \"ticks\": \"\"}, \"type\": \"contourcarpet\"}], \"heatmap\": [{\"colorbar\": {\"outlinewidth\": 0, \"ticks\": \"\"}, \"colorscale\": [[0.0, \"#0d0887\"], [0.1111111111111111, \"#46039f\"], [0.2222222222222222, \"#7201a8\"], [0.3333333333333333, \"#9c179e\"], [0.4444444444444444, \"#bd3786\"], [0.5555555555555556, \"#d8576b\"], [0.6666666666666666, \"#ed7953\"], [0.7777777777777778, \"#fb9f3a\"], [0.8888888888888888, \"#fdca26\"], [1.0, \"#f0f921\"]], \"type\": \"heatmap\"}], \"heatmapgl\": [{\"colorbar\": {\"outlinewidth\": 0, \"ticks\": \"\"}, \"colorscale\": [[0.0, \"#0d0887\"], [0.1111111111111111, \"#46039f\"], [0.2222222222222222, \"#7201a8\"], [0.3333333333333333, \"#9c179e\"], [0.4444444444444444, \"#bd3786\"], [0.5555555555555556, \"#d8576b\"], [0.6666666666666666, \"#ed7953\"], [0.7777777777777778, \"#fb9f3a\"], [0.8888888888888888, \"#fdca26\"], [1.0, \"#f0f921\"]], \"type\": \"heatmapgl\"}], \"histogram\": [{\"marker\": {\"colorbar\": {\"outlinewidth\": 0, \"ticks\": \"\"}}, \"type\": \"histogram\"}], \"histogram2d\": [{\"colorbar\": {\"outlinewidth\": 0, \"ticks\": \"\"}, \"colorscale\": [[0.0, \"#0d0887\"], [0.1111111111111111, \"#46039f\"], [0.2222222222222222, \"#7201a8\"], [0.3333333333333333, \"#9c179e\"], [0.4444444444444444, \"#bd3786\"], [0.5555555555555556, \"#d8576b\"], [0.6666666666666666, \"#ed7953\"], [0.7777777777777778, \"#fb9f3a\"], [0.8888888888888888, \"#fdca26\"], [1.0, \"#f0f921\"]], \"type\": \"histogram2d\"}], \"histogram2dcontour\": [{\"colorbar\": {\"outlinewidth\": 0, \"ticks\": \"\"}, \"colorscale\": [[0.0, \"#0d0887\"], [0.1111111111111111, \"#46039f\"], [0.2222222222222222, \"#7201a8\"], [0.3333333333333333, \"#9c179e\"], [0.4444444444444444, \"#bd3786\"], [0.5555555555555556, \"#d8576b\"], [0.6666666666666666, \"#ed7953\"], [0.7777777777777778, \"#fb9f3a\"], [0.8888888888888888, \"#fdca26\"], [1.0, \"#f0f921\"]], \"type\": \"histogram2dcontour\"}], \"mesh3d\": [{\"colorbar\": {\"outlinewidth\": 0, \"ticks\": \"\"}, \"type\": \"mesh3d\"}], \"parcoords\": [{\"line\": {\"colorbar\": {\"outlinewidth\": 0, \"ticks\": \"\"}}, \"type\": \"parcoords\"}], \"pie\": [{\"automargin\": true, \"type\": \"pie\"}], \"scatter\": [{\"marker\": {\"colorbar\": {\"outlinewidth\": 0, \"ticks\": \"\"}}, \"type\": \"scatter\"}], \"scatter3d\": [{\"line\": {\"colorbar\": {\"outlinewidth\": 0, \"ticks\": \"\"}}, \"marker\": {\"colorbar\": {\"outlinewidth\": 0, \"ticks\": \"\"}}, \"type\": \"scatter3d\"}], \"scattercarpet\": [{\"marker\": {\"colorbar\": {\"outlinewidth\": 0, \"ticks\": \"\"}}, \"type\": \"scattercarpet\"}], \"scattergeo\": [{\"marker\": {\"colorbar\": {\"outlinewidth\": 0, \"ticks\": \"\"}}, \"type\": \"scattergeo\"}], \"scattergl\": [{\"marker\": {\"colorbar\": {\"outlinewidth\": 0, \"ticks\": \"\"}}, \"type\": \"scattergl\"}], \"scattermapbox\": [{\"marker\": {\"colorbar\": {\"outlinewidth\": 0, \"ticks\": \"\"}}, \"type\": \"scattermapbox\"}], \"scatterpolar\": [{\"marker\": {\"colorbar\": {\"outlinewidth\": 0, \"ticks\": \"\"}}, \"type\": \"scatterpolar\"}], \"scatterpolargl\": [{\"marker\": {\"colorbar\": {\"outlinewidth\": 0, \"ticks\": \"\"}}, \"type\": \"scatterpolargl\"}], \"scatterternary\": [{\"marker\": {\"colorbar\": {\"outlinewidth\": 0, \"ticks\": \"\"}}, \"type\": \"scatterternary\"}], \"surface\": [{\"colorbar\": {\"outlinewidth\": 0, \"ticks\": \"\"}, \"colorscale\": [[0.0, \"#0d0887\"], [0.1111111111111111, \"#46039f\"], [0.2222222222222222, \"#7201a8\"], [0.3333333333333333, \"#9c179e\"], [0.4444444444444444, \"#bd3786\"], [0.5555555555555556, \"#d8576b\"], [0.6666666666666666, \"#ed7953\"], [0.7777777777777778, \"#fb9f3a\"], [0.8888888888888888, \"#fdca26\"], [1.0, \"#f0f921\"]], \"type\": \"surface\"}], \"table\": [{\"cells\": {\"fill\": {\"color\": \"#EBF0F8\"}, \"line\": {\"color\": \"white\"}}, \"header\": {\"fill\": {\"color\": \"#C8D4E3\"}, \"line\": {\"color\": \"white\"}}, \"type\": \"table\"}]}, \"layout\": {\"annotationdefaults\": {\"arrowcolor\": \"#2a3f5f\", \"arrowhead\": 0, \"arrowwidth\": 1}, \"coloraxis\": {\"colorbar\": {\"outlinewidth\": 0, \"ticks\": \"\"}}, \"colorscale\": {\"diverging\": [[0, \"#8e0152\"], [0.1, \"#c51b7d\"], [0.2, \"#de77ae\"], [0.3, \"#f1b6da\"], [0.4, \"#fde0ef\"], [0.5, \"#f7f7f7\"], [0.6, \"#e6f5d0\"], [0.7, \"#b8e186\"], [0.8, \"#7fbc41\"], [0.9, \"#4d9221\"], [1, \"#276419\"]], \"sequential\": [[0.0, \"#0d0887\"], [0.1111111111111111, \"#46039f\"], [0.2222222222222222, \"#7201a8\"], [0.3333333333333333, \"#9c179e\"], [0.4444444444444444, \"#bd3786\"], [0.5555555555555556, \"#d8576b\"], [0.6666666666666666, \"#ed7953\"], [0.7777777777777778, \"#fb9f3a\"], [0.8888888888888888, \"#fdca26\"], [1.0, \"#f0f921\"]], \"sequentialminus\": [[0.0, \"#0d0887\"], [0.1111111111111111, \"#46039f\"], [0.2222222222222222, \"#7201a8\"], [0.3333333333333333, \"#9c179e\"], [0.4444444444444444, \"#bd3786\"], [0.5555555555555556, \"#d8576b\"], [0.6666666666666666, \"#ed7953\"], [0.7777777777777778, \"#fb9f3a\"], [0.8888888888888888, \"#fdca26\"], [1.0, \"#f0f921\"]]}, \"colorway\": [\"#636efa\", \"#EF553B\", \"#00cc96\", \"#ab63fa\", \"#FFA15A\", \"#19d3f3\", \"#FF6692\", \"#B6E880\", \"#FF97FF\", \"#FECB52\"], \"font\": {\"color\": \"#2a3f5f\"}, \"geo\": {\"bgcolor\": \"white\", \"lakecolor\": \"white\", \"landcolor\": \"#E5ECF6\", \"showlakes\": true, \"showland\": true, \"subunitcolor\": \"white\"}, \"hoverlabel\": {\"align\": \"left\"}, \"hovermode\": \"closest\", \"mapbox\": {\"style\": \"light\"}, \"paper_bgcolor\": \"white\", \"plot_bgcolor\": \"#E5ECF6\", \"polar\": {\"angularaxis\": {\"gridcolor\": \"white\", \"linecolor\": \"white\", \"ticks\": \"\"}, \"bgcolor\": \"#E5ECF6\", \"radialaxis\": {\"gridcolor\": \"white\", \"linecolor\": \"white\", \"ticks\": \"\"}}, \"scene\": {\"xaxis\": {\"backgroundcolor\": \"#E5ECF6\", \"gridcolor\": \"white\", \"gridwidth\": 2, \"linecolor\": \"white\", \"showbackground\": true, \"ticks\": \"\", \"zerolinecolor\": \"white\"}, \"yaxis\": {\"backgroundcolor\": \"#E5ECF6\", \"gridcolor\": \"white\", \"gridwidth\": 2, \"linecolor\": \"white\", \"showbackground\": true, \"ticks\": \"\", \"zerolinecolor\": \"white\"}, \"zaxis\": {\"backgroundcolor\": \"#E5ECF6\", \"gridcolor\": \"white\", \"gridwidth\": 2, \"linecolor\": \"white\", \"showbackground\": true, \"ticks\": \"\", \"zerolinecolor\": \"white\"}}, \"shapedefaults\": {\"line\": {\"color\": \"#2a3f5f\"}}, \"ternary\": {\"aaxis\": {\"gridcolor\": \"white\", \"linecolor\": \"white\", \"ticks\": \"\"}, \"baxis\": {\"gridcolor\": \"white\", \"linecolor\": \"white\", \"ticks\": \"\"}, \"bgcolor\": \"#E5ECF6\", \"caxis\": {\"gridcolor\": \"white\", \"linecolor\": \"white\", \"ticks\": \"\"}}, \"title\": {\"x\": 0.05}, \"xaxis\": {\"automargin\": true, \"gridcolor\": \"white\", \"linecolor\": \"white\", \"ticks\": \"\", \"title\": {\"standoff\": 15}, \"zerolinecolor\": \"white\", \"zerolinewidth\": 2}, \"yaxis\": {\"automargin\": true, \"gridcolor\": \"white\", \"linecolor\": \"white\", \"ticks\": \"\", \"title\": {\"standoff\": 15}, \"zerolinecolor\": \"white\", \"zerolinewidth\": 2}}}, \"title\": {\"text\": \"Impact of Covid-19 across the Globe\"}, \"updatemenus\": [{\"active\": 0, \"buttons\": [{\"args\": [{\"visible\": [false, true]}, {\"title\": \"Cases\"}], \"label\": \"Cases\", \"method\": \"update\"}, {\"args\": [{\"visible\": [true, false]}, {\"title\": \"Deaths\"}], \"label\": \"Deaths\", \"method\": \"update\"}]}]},\n",
       "                        {\"responsive\": true}\n",
       "                    ).then(function(){\n",
       "                            \n",
       "var gd = document.getElementById('a0b644d7-9f0c-437a-9cf8-725c67f3b655');\n",
       "var x = new MutationObserver(function (mutations, observer) {{\n",
       "        var display = window.getComputedStyle(gd).display;\n",
       "        if (!display || display === 'none') {{\n",
       "            console.log([gd, 'removed!']);\n",
       "            Plotly.purge(gd);\n",
       "            observer.disconnect();\n",
       "        }}\n",
       "}});\n",
       "\n",
       "// Listen for the removal of the full notebook cells\n",
       "var notebookContainer = gd.closest('#notebook-container');\n",
       "if (notebookContainer) {{\n",
       "    x.observe(notebookContainer, {childList: true});\n",
       "}}\n",
       "\n",
       "// Listen for the clearing of the current output cell\n",
       "var outputEl = gd.closest('.output');\n",
       "if (outputEl) {{\n",
       "    x.observe(outputEl, {childList: true});\n",
       "}}\n",
       "\n",
       "                        })\n",
       "                };\n",
       "                });\n",
       "            </script>\n",
       "        </div>"
      ]
     },
     "metadata": {},
     "output_type": "display_data"
    }
   ],
   "source": [
    "import plotly.graph_objects as go\n",
    "import pandas as pd\n",
    "import dash\n",
    "import dash_core_components as dcc\n",
    "import dash_html_components as html\n",
    "import plotly\n",
    "\n",
    "\n",
    "choropleth_deaths = dict(\n",
    "        type = 'choropleth',\n",
    "       locations = new_df['countrycode'],\n",
    "        z = new_df['deaths'],\n",
    "        text = new_df['country'],\n",
    "        colorscale = 'Oranges',\n",
    "        autocolorscale=False,\n",
    "        reversescale=False,\n",
    "        marker_line_color='darkgray',\n",
    "        marker_line_width=0.5,\n",
    "        colorbar_title = 'Deaths',\n",
    ")\n",
    "\n",
    "\n",
    "choropleth_cases = dict(\n",
    "        type = 'choropleth',\n",
    "        locations = new_df['countrycode'],\n",
    "        z = new_df['cases'],\n",
    "        text = new_df['country'],\n",
    "        colorscale = 'Reds',\n",
    "        autocolorscale=False,\n",
    "        reversescale=False,\n",
    "        marker_line_color='darkgray',\n",
    "        marker_line_width=0.5,\n",
    "        colorbar_title = 'Cases',\n",
    ")\n",
    "\n",
    "\n",
    "\n",
    "data = [choropleth_deaths,choropleth_cases]\n",
    "\n",
    "\n",
    "updatemenus=[\n",
    "        dict(active = 0,\n",
    "            buttons=list([\n",
    "            dict(label=\"Cases\",\n",
    "                 method=\"update\",\n",
    "                 args=[{\"visible\": [False, True]},\n",
    "                           {\"title\": \"Cases\",\n",
    "                            }]),\n",
    "            \n",
    "            dict(label=\"Deaths\",\n",
    "                 method=\"update\",\n",
    "                 args=[{\"visible\": [True,False]},\n",
    "                           {\"title\": \"Deaths\",\n",
    "                            }]),\n",
    "        ]),\n",
    "        )\n",
    "    ]\n",
    "\n",
    "\n",
    "layout = dict(title='Impact of Covid-19 across the Globe', showlegend=True,\n",
    "                  updatemenus=updatemenus,\n",
    "        geo = dict(showframe = True,\n",
    "                   showcoastlines = False,\n",
    "                   showland = True,\n",
    "                   landcolor = '#c1bfbf', \n",
    "                   projection = dict(type = 'equirectangular')),\n",
    "              \n",
    "        annotations = [dict(\n",
    "                   x=0.5, \n",
    "                   y=0.15, \n",
    "                   xref='paper',\n",
    "                   yref='paper',\n",
    "                   text='Source:<a href=\"https://covid19.who.int/\">\\\n",
    "                         WHO | World health Organization</a>',\n",
    "                   showarrow = False\n",
    "        )]\n",
    "    )   \n",
    "\n",
    "\n",
    "figure = dict(data=data, layout=layout)\n",
    "\n",
    "plotly.offline.iplot(figure, validate=True)"
   ]
  },
  {
   "cell_type": "markdown",
   "metadata": {},
   "source": [
    "combine with dash"
   ]
  },
  {
   "cell_type": "code",
   "execution_count": 70,
   "metadata": {},
   "outputs": [
    {
     "name": "stdout",
     "output_type": "stream",
     "text": [
      "Running on http://127.0.0.1:8050/\n",
      "Running on http://127.0.0.1:8050/\n",
      "Debugger PIN: 673-331-249\n",
      "Debugger PIN: 673-331-249\n",
      " * Serving Flask app \"__main__\" (lazy loading)\n",
      " * Environment: production\n",
      "\u001b[31m   WARNING: This is a development server. Do not use it in a production deployment.\u001b[0m\n",
      "\u001b[2m   Use a production WSGI server instead.\u001b[0m\n",
      " * Debug mode: on\n"
     ]
    }
   ],
   "source": [
    "app = dash.Dash()\n",
    "app.layout = html.Div([\n",
    "    dcc.Graph(figure=figure)\n",
    "])\n",
    "\n",
    "\n",
    "app.run_server(debug=True, use_reloader=False)"
   ]
  },
  {
   "cell_type": "markdown",
   "metadata": {},
   "source": [
    "For the Epidemic trend, I programmed with R and Shiny. "
   ]
  },
  {
   "cell_type": "code",
   "execution_count": 71,
   "metadata": {
    "scrolled": false
   },
   "outputs": [
    {
     "data": {
      "text/html": [
       "\n",
       "        <iframe\n",
       "            width=\"1000\"\n",
       "            height=\"500\"\n",
       "            src=\"https://oliverchao.shinyapps.io/pandemic-trend/\"\n",
       "            frameborder=\"0\"\n",
       "            allowfullscreen\n",
       "        ></iframe>\n",
       "        "
      ],
      "text/plain": [
       "<IPython.lib.display.IFrame at 0x123c97450>"
      ]
     },
     "execution_count": 71,
     "metadata": {},
     "output_type": "execute_result"
    }
   ],
   "source": [
    "from IPython.display import IFrame\n",
    "\n",
    "IFrame(src='https://oliverchao.shinyapps.io/pandemic-trend/', width=1000, height=500)"
   ]
  },
  {
   "cell_type": "markdown",
   "metadata": {},
   "source": [
    "The global pandemic outbreak started at the late Feburary. After two months fight, many countries are going to bend the curves(total cases and mortatilty),which means the daily new cases decrease with time. While in the global aspect, the figures still show an up-rising trend. Among the countries, China and Korea has decreased the daily cases to a low level. The daily new cases in USA still remain high. Based on the information, the pandemic is yet to finish. Countries and Regions still have to take measures to defend."
   ]
  },
  {
   "cell_type": "markdown",
   "metadata": {},
   "source": [
    "### Risk factor part\n",
    "> Since December 2019, when coronavirus disease 2019 (Covid-19) arise in Wuhan city and rapidly spread throughout the world, data have been needed in order to examin the possible risk factors of the affected patients.The risk factors are the factors which may increase the possibility of death or suffering from severe symptoms when exist within infected people  was being one of the main concern of all people, researchers and specialists   all around the world during the pandemic breakdown.\n",
    " \n",
    " \n",
    " **The aim of this part** is to examine the impact of Covid-19 on people according to *age, sex, smoking and some other health disease*. This will be done using the data regarding 1099 patients with confirmed Covid-19 cases from 552 hospitals in 30 provinces, autonomous regions, and municipalities in mainland China through January 29, 2020.The largest number of patients (132) had been admitted to Wuhan Jinyintan Hospital."
   ]
  },
  {
   "cell_type": "markdown",
   "metadata": {},
   "source": [
    "#### Covid-19 and Sex"
   ]
  },
  {
   "cell_type": "code",
   "execution_count": 72,
   "metadata": {},
   "outputs": [
    {
     "data": {
      "image/png": "[encoded data removed]",
      "text/plain": [
       "<Figure size 1080x1800 with 2 Axes>"
      ]
     },
     "metadata": {},
     "output_type": "display_data"
    }
   ],
   "source": [
    "# Data to plot\n",
    "import warnings\n",
    "import matplotlib.cbook\n",
    "warnings.filterwarnings(\"ignore\",category=matplotlib.cbook.mplDeprecation)\n",
    "\n",
    "colors = ['#ffb3e6', '#9bcdff', '#99ff99']\n",
    "colors_gender = ['#ff9b9b','#ff6666' ,'#4fa7ff','#6868ff', '#c2c2f0','#ff6666']\n",
    "\n",
    "#Plot\n",
    "plt.figure(figsize=(15,25)) \n",
    "ax1=plt.subplot(221,title=\"Covid-19 Patints\")\n",
    "\n",
    "ax1.pie(sizes, labels=labels, colors=colors, startangle=90,frame=True,radius=3)\n",
    "\n",
    "# ax1.pie(sizes_gender ,labeldistance=1,autopct='%1.1f%%', pctdistance=0.8,colors=colors_gender,startangle=90,\n",
    "#         radius=2.5)\n",
    "\n",
    "\n",
    "ax1.pie(sizes_gender ,labeldistance=1,autopct=lambda p: '{:1.1f}%'.format(p) if p > 0 else '', pctdistance=0.8,\n",
    "        colors=colors_gender,startangle=90,\n",
    "        radius=2.5)\n",
    "\n",
    "#Draw circle\n",
    "centre_circle = plt.Circle((0,0),1.5,color='black', fc='white',linewidth=0)\n",
    "fig = plt.gcf()\n",
    "fig.gca().add_artist(centre_circle)\n",
    "ax1.legend(x1,loc='upper right', ncol=3, mode=\"expand\")\n",
    "ax1.axis('equal')\n",
    "\n",
    "\n",
    "#fig1, ax1 = plt.subplots()\n",
    "ax2=plt.subplot(443,title='Total China Population' )\n",
    "\n",
    "ax2.pie(dn.iloc[1:3,12:],colors=['#ffb3e6', '#9bcdff'],radius=2, autopct='%1.1f%%', shadow=True, startangle=90,)\n",
    "\n",
    "# Equal aspect ratio ensures that pie is drawn as a circle\n",
    "ax2.axis('equal',)  \n",
    "ax2.legend(dn.iloc[1:3,0])\n",
    "# plt.tight_layout()\n",
    "plt.show()\n",
    "\n"
   ]
  },
  {
   "cell_type": "markdown",
   "metadata": {},
   "source": [
    "As we can see in the above visualization, while  47% of Chinese people as female, they form only about  41.7% of the total people who infected by covid-19. This means that **femal are less likely to get infected by CoronaVirus**. Also the percentage of female who suffering from severe symptoms of the disease are remarkably less than the corresponding males by about 20% of the total cases.  this means that **males are more likly to have a severe deterioration** of the disease.  "
   ]
  },
  {
   "cell_type": "markdown",
   "metadata": {},
   "source": [
    "#### Covid-19 and smoking"
   ]
  },
  {
   "cell_type": "code",
   "execution_count": 73,
   "metadata": {},
   "outputs": [
    {
     "data": {
      "image/png": "[encoded data removed]",
      "text/plain": [
       "<Figure size 720x720 with 1 Axes>"
      ]
     },
     "metadata": {},
     "output_type": "display_data"
    }
   ],
   "source": [
    "colors = ['#a5e1a5' , '#9bcdff' ,'#ffe7e7','#cfcfcf']\n",
    "colors_gender = ['#cbeecb','#00c261','#4fa7ff','#6868ff', '#ff9a9a','#ff6666','#c3c3c3','#a9a9a9']\n",
    "explode=(0,0,0.2,0)\n",
    "explode_gender=(0,0,0,0,0.5,0.5,0,0)\n",
    "#Plot\n",
    "plt.figure(figsize=(10,10)) \n",
    "plt.pie(sizes, labels=labels, colors=colors, startangle=45, frame=True,radius=5,shadow=True,explode=explode)\n",
    "plt.pie(sizes_gender, autopct='%1.1f%%',pctdistance=0.75, colors=colors_gender,startangle=45,\n",
    "        radius=4 ,shadow=True,explode=explode_gender) #autopct='%1.1f%%',pctdistance=0.7 instead we can use labels,labeldistance\n",
    "#Draw circle\n",
    "centre_circle = plt.Circle((0,0),2,color='black', fc='white',linewidth=0)\n",
    "fig = plt.gcf()\n",
    "fig.gca().add_artist(centre_circle)\n",
    "\n",
    "plt.legend(x2,loc='lower right', ncol=3, mode=\"expand\")\n",
    "\n",
    "plt.axis('equal')\n",
    "plt.tight_layout()\n",
    "plt.show()"
   ]
  },
  {
   "cell_type": "markdown",
   "metadata": {},
   "source": [
    "The total percent of smoker people in china is 26%, but we can notice from the above visualization that only 11% of the people infected with Covid-19 are active smoker, this can tell us that **smoker people are less likely to get infected by Covid19**. However, it seems that about 30% of smokers who have Covid-19 are facing severe symptoms compared to only 12% from the non smoker patints. This means that **smokers are more likely to have a deterioration if they get infected by the Virous**."
   ]
  },
  {
   "cell_type": "markdown",
   "metadata": {},
   "source": [
    "#### machine learning\n",
    "* To seek any statistical findings among these variables, we suppose that there is a multi-linear realtionship between the death rate(deaths per million) and sex ratio,age and smokingrate of the countries. Several datasets were merged to conduct a multi-linear regression."
   ]
  },
  {
   "cell_type": "code",
   "execution_count": 74,
   "metadata": {},
   "outputs": [
    {
     "data": {
      "text/plain": [
       "array([ 2881.26106276,  -352.99632697, -1376.48555863])"
      ]
     },
     "execution_count": 74,
     "metadata": {},
     "output_type": "execute_result"
    }
   ],
   "source": [
    "from regressors import stats\n",
    "column = ['age','sexratio','totalSmokingRate']\n",
    "x = dm[column]\n",
    "x = preprocessing.scale(x)\n",
    "y = dm['Total confirmed deaths due to COVID-19 (deaths)']\n",
    "linear_regression = LinearRegression()\n",
    "reg = linear_regression.fit(x,y)\n",
    "reg.coef_"
   ]
  },
  {
   "cell_type": "code",
   "execution_count": 75,
   "metadata": {},
   "outputs": [
    {
     "data": {
      "text/plain": [
       "array([0.00332677, 0.00132188, 0.6671258 , 0.11605922])"
      ]
     },
     "execution_count": 75,
     "metadata": {},
     "output_type": "execute_result"
    }
   ],
   "source": [
    "stats.coef_pval(reg, x, y)"
   ]
  },
  {
   "cell_type": "markdown",
   "metadata": {},
   "source": [
    "* The coeffiecents suggest that sexratio and somking rates are inversely correlated with the deaths, whereas age is strongly postively correlated.\n",
    "* The p-value shows that only the age variable is statistically significant, which means it do influence the output value:death rate. It can conclude that the country with a large proportion of elderly population has greater risk to have a high death rate."
   ]
  },
  {
   "cell_type": "markdown",
   "metadata": {},
   "source": [
    "### Environmental part\n",
    ">The main environmental factors which have been shown to affect the spread of Covid-19 are temperature [(Michael Triplett,2020)](https://www.medrxiv.org/content/10.1101/2020.04.02.20051524v2), humidity, and air pollution [(Rachel C. Nethery,2020)](https://projects.iq.harvard.edu/covid-pm). It has also been suggested that factors like population density, latitude, number of sunlight hours or even windspeed correlate with virus spread."
   ]
  },
  {
   "cell_type": "code",
   "execution_count": 76,
   "metadata": {},
   "outputs": [
    {
     "data": {
      "image/png": "[encoded data removed]",
      "text/plain": [
       "<Figure size 720x360 with 1 Axes>"
      ]
     },
     "metadata": {
      "needs_background": "light"
     },
     "output_type": "display_data"
    }
   ],
   "source": [
    "plt.rcParams['figure.figsize'] = [10, 5]\n",
    "df_321_groupby = df_temp_321.groupby('lat')['cases'].sum()\n",
    "df_315_groupby = df_temp_315.groupby('lat')['cases'].sum()\n",
    "plt.plot(df_321_groupby.index,df_321_groupby.values, label = '2020-03-21')\n",
    "plt.plot(df_315_groupby.index,df_315_groupby.values, label = '2020-03-15')\n",
    "plt.xlabel(\"Latitude\")\n",
    "plt.ylabel(r\"Cases\")\n",
    "plt.legend(loc=\"upper right\")\n",
    "plt.title('Cases by latitude')\n",
    "plt.text(33,81543,'Highest Point',color = 'red')\n",
    "plt.grid()"
   ]
  },
  {
   "cell_type": "markdown",
   "metadata": {},
   "source": [
    "In this chart, the cases are mostly aggregated between 30N and 50N, where the temperature is lower. In additon, the cases increases faster in northern hemisphere than the sourthern part, where the cases go up slightly."
   ]
  },
  {
   "cell_type": "code",
   "execution_count": 77,
   "metadata": {},
   "outputs": [
    {
     "data": {
      "image/png": "[encoded data removed]",
      "text/plain": [
       "<Figure size 720x360 with 1 Axes>"
      ]
     },
     "metadata": {
      "needs_background": "light"
     },
     "output_type": "display_data"
    }
   ],
   "source": [
    "df_321_groupby = df_temp_321.groupby('lat')['cases'].sum()\n",
    "df_315_groupby = df_temp_315.groupby('lat')['cases'].sum()\n",
    "\n",
    "df_321_temp =df_temp_321.groupby('lat')['tempC'].mean() \n",
    "df_315_temp =df_temp_315.groupby('lat')['tempC'].mean() \n",
    "plt.plot(df_321_temp.index,df_321_temp.values.round(),label = '2020-03-21')\n",
    "plt.plot(df_315_temp.index,df_315_temp.values.round(),label = '2020-03-15')\n",
    "plt.xlabel('Latitude')\n",
    "plt.ylabel('Temperature')\n",
    "plt.legend(loc=\"upper right\")\n",
    "plt.title('Temperature by Latitude')\n",
    "plt.text(-40, 0, 'world average temp\\n 2020-03-21: 20.47°C\\n 2020-03-15: 20.28°C', fontsize=12,color = 'orange')\n",
    "plt.grid()"
   ]
  },
  {
   "cell_type": "markdown",
   "metadata": {},
   "source": [
    "From this chart,the world average temperature increased by 0.2°C from 2020-03-15 to 2020-03-21.Meanwhile,the average temperature in the southern hemisphere decreases from 26.71 to 25.69.While ,it increases from 17.38 to 17.69 in the northern hemisphere.\n",
    "\n",
    "According to these two charts, we could make a hypothesis that the temperature is corelated the tramission of the COVID-19"
   ]
  },
  {
   "cell_type": "code",
   "execution_count": 78,
   "metadata": {},
   "outputs": [
    {
     "data": {
      "image/png": "[encoded data removed]",
      "text/plain": [
       "<Figure size 720x360 with 2 Axes>"
      ]
     },
     "metadata": {
      "needs_background": "light"
     },
     "output_type": "display_data"
    },
    {
     "data": {
      "image/png": "[encoded data removed]",
      "text/plain": [
       "<Figure size 720x360 with 2 Axes>"
      ]
     },
     "metadata": {
      "needs_background": "light"
     },
     "output_type": "display_data"
    }
   ],
   "source": [
    "df_321_groupby_temcase = df_temp_321.groupby('tempC')['caserate'].mean()\n",
    "df_321_groupby_tempop = df_temp_321.groupby('tempC')['Density'].mean()\n",
    "\n",
    "fig = plt.figure()\n",
    "ax = fig.add_subplot(111)\n",
    "ax.bar(df_321_groupby_temcase.index,df_321_groupby_temcase.values, label = 'caserate')\n",
    "\n",
    "ax2 = ax.twinx()\n",
    "ax2.plot(df_321_groupby_tempop.index,df_321_groupby_tempop.values, '-.r', label = 'population density')\n",
    "fig.legend(loc=\"upper right\")\n",
    "fig.suptitle('population density and caserate by temperature\\n March 21,2020')\n",
    "\n",
    "ax.set_xlabel(\"Temperature (°C)\")\n",
    "ax.set_ylabel(r\"Case Rate\")\n",
    "ax2.set_ylabel(r\"Population Density (P/Km²)\")\n",
    "plt.show()\n",
    "\n",
    "df_315_groupby_temcase = df_temp_315.groupby('tempC')['caserate'].mean()\n",
    "df_315_groupby_tempop = df_temp_315.groupby('tempC')['Density'].mean()\n",
    "\n",
    "fig = plt.figure()\n",
    "ax = fig.add_subplot(111)\n",
    "ax.bar(df_315_groupby_temcase.index,df_315_groupby_temcase.values, label = 'caserate')\n",
    "\n",
    "ax2 = ax.twinx()\n",
    "ax2.plot(df_315_groupby_tempop.index,df_315_groupby_tempop.values, '-.r', label = 'population density')\n",
    "fig.legend(loc=\"upper right\")\n",
    "fig.suptitle('population density and caserate by temperature \\n March 15,2020')\n",
    "\n",
    "ax.set_xlabel(\"Temperature  (°C)\")\n",
    "ax.set_ylabel(r\"Case Rate\")\n",
    "ax2.set_ylabel(r\"Population Density (P/Km²) \")\n",
    "plt.show()"
   ]
  },
  {
   "cell_type": "markdown",
   "metadata": {},
   "source": [
    ">From these two charts, it is clear that the area whose temperature is less than 20 has high caserate. On the opisite side, the case rate remains at lower level in the warmer area(temperature >20) although some are densed-populated. What else, even though in some area with high population density, the. case rate is not extremly high compared to other areas. Regarding these two charts, we can conclude that population may not be the key factor. While temperature is correlated to the caserate."
   ]
  },
  {
   "cell_type": "markdown",
   "metadata": {},
   "source": [
    "Compared to other outbreaks, these pendemic always distributed along the area around 30-50N where the relative humidity is 47% to 79%. In additon, regarding [*Malik Peiris's research*]('https://www.hindawi.com/journals/av/2011/734690/') about SARs, the virus retained its viability at relative humidity of 40%-50%.\n",
    "Therefore, we are curious about how the Covid-19 distributes by humidity."
   ]
  },
  {
   "cell_type": "code",
   "execution_count": 79,
   "metadata": {},
   "outputs": [
    {
     "data": {
      "image/png": "[encoded data removed]",
      "text/plain": [
       "<Figure size 720x360 with 2 Axes>"
      ]
     },
     "metadata": {
      "needs_background": "light"
     },
     "output_type": "display_data"
    },
    {
     "data": {
      "image/png": "[encoded data removed]",
      "text/plain": [
       "<Figure size 720x360 with 2 Axes>"
      ]
     },
     "metadata": {
      "needs_background": "light"
     },
     "output_type": "display_data"
    }
   ],
   "source": [
    "df_321_groupby_humicase = df_humdity_321.groupby('humidity')['caserate'].mean()\n",
    "df_321_groupby_humipop = df_humdity_321.groupby('humidity')['Density'].mean()\n",
    "\n",
    "fig = plt.figure()\n",
    "ax = fig.add_subplot(111)\n",
    "ax.bar(df_321_groupby_humicase.index,df_321_groupby_humicase.values, label = 'caserate')\n",
    "\n",
    "ax2 = ax.twinx()\n",
    "ax2.plot(df_321_groupby_humipop.index,df_321_groupby_humipop.values, '-.r', label = 'population density')\n",
    "fig.legend(loc=\"upper right\")\n",
    "\n",
    "ax.set_xlabel(\"Humidity\")\n",
    "ax.set_ylabel(r\"Case Rate\")\n",
    "ax2.set_ylabel(r\"Population Density (P/Km²)\")\n",
    "fig.suptitle('population density and caserate by humidity\\n March 21,2020')\n",
    "plt.show()\n",
    "\n",
    "df_315_groupby_humicase = df_humdity_315.groupby('humidity')['caserate'].mean()\n",
    "df_315_groupby_humipop = df_humdity_315.groupby('humidity')['Density'].mean()\n",
    "\n",
    "fig = plt.figure()\n",
    "ax = fig.add_subplot(111)\n",
    "ax.bar(df_315_groupby_humicase.index,df_315_groupby_humicase.values, label = 'caserate')\n",
    "\n",
    "ax2 = ax.twinx()\n",
    "ax2.plot(df_315_groupby_humipop.index,df_315_groupby_humipop.values, '-.r', label = 'population density')\n",
    "fig.legend(loc=\"upper right\")\n",
    "\n",
    "ax.set_xlabel(\"Humidity\")\n",
    "ax.set_ylabel(r\"Case Rate\")\n",
    "ax2.set_ylabel(r\"Population Density (P/Km²)\")\n",
    "fig.suptitle('population density and caserate by humidity\\n March 15,2020')\n",
    "plt.show()"
   ]
  },
  {
   "cell_type": "markdown",
   "metadata": {},
   "source": [
    ">It is evident to see that areas whose relative humidity is between 40 and 80 has higher caserate. While it is hard to detect any more connection between humidty and caserate"
   ]
  },
  {
   "cell_type": "markdown",
   "metadata": {},
   "source": [
    "### Machine learning\n",
    ">In order to support our data analysis, several datasets were merged three datasets and the values of the variates were standarized. Multilinear regression was then carried out."
   ]
  },
  {
   "cell_type": "markdown",
   "metadata": {},
   "source": [
    "* Firstly, we extracted temperature,windspeed,humdity,sunhour,latitude and population density as our input and cases as putput\n",
    "* Secondly,we standarized the values to ensure they use the same scale.\n",
    "* Thirdly, a multi-linear regression  were conducted and  the coeffiecents were extracted from the result.\n",
    "* Finally, we concluded that sunhour and population density are not highly correlated with the case rate, whereas temperature, windspeed, humidity and Abs(latitude) are strongly inversely correlated to support our analysis above."
   ]
  },
  {
   "cell_type": "code",
   "execution_count": 80,
   "metadata": {},
   "outputs": [
    {
     "data": {
      "text/plain": [
       "array([-3180.79815382, -3064.03985494,  -676.8529543 ,  -266.34521805,\n",
       "       -2013.51269032,   -59.96176325])"
      ]
     },
     "execution_count": 80,
     "metadata": {},
     "output_type": "execute_result"
    }
   ],
   "source": [
    "from regressors import stats\n",
    "y = df_weather['cases']\n",
    "column = ['tempC','humidity','windspeedKmph','sunHour','lat','Density']\n",
    "x = df_weather[column]\n",
    "x = preprocessing.scale(x)\n",
    "linear_regression = LinearRegression()\n",
    "reg = linear_regression.fit(x,y)\n",
    "reg.coef_"
   ]
  },
  {
   "cell_type": "code",
   "execution_count": 81,
   "metadata": {},
   "outputs": [
    {
     "data": {
      "text/plain": [
       "array([8.80328040e-03, 1.47231218e-02, 3.63458215e-04, 3.53680559e-01,\n",
       "       7.40914295e-01, 1.08114333e-01, 9.32694218e-01])"
      ]
     },
     "execution_count": 81,
     "metadata": {},
     "output_type": "execute_result"
    }
   ],
   "source": [
    "stats.coef_pval(reg, x, y)"
   ]
  },
  {
   "cell_type": "markdown",
   "metadata": {},
   "source": [
    "* The coeffiecents suggest that sunhour and population density are not highly correlated with the case rate, whereas temperature, windspeed, humidity and Abs(latitude) are strongly inversely correlated. \n",
    "* According to the p-value, it tells that temperature and humidity are statistically significant while the rest features are not. \n",
    "* Therefore, the statistic evidence shows that temperature and humidity can affect the case level.However, the other variables have no influence."
   ]
  },
  {
   "cell_type": "markdown",
   "metadata": {},
   "source": [
    "### Outbreak comparsion"
   ]
  },
  {
   "cell_type": "markdown",
   "metadata": {},
   "source": [
    "For this part, I also programmed with R and shiny"
   ]
  },
  {
   "cell_type": "code",
   "execution_count": 82,
   "metadata": {},
   "outputs": [
    {
     "data": {
      "text/html": [
       "\n",
       "        <iframe\n",
       "            width=\"1000\"\n",
       "            height=\"500\"\n",
       "            src=\"https://oliverchao.shinyapps.io/shinytwo/\"\n",
       "            frameborder=\"0\"\n",
       "            allowfullscreen\n",
       "        ></iframe>\n",
       "        "
      ],
      "text/plain": [
       "<IPython.lib.display.IFrame at 0x1244c0e50>"
      ]
     },
     "execution_count": 82,
     "metadata": {},
     "output_type": "execute_result"
    }
   ],
   "source": [
    "from IPython.display import IFrame\n",
    "\n",
    "IFrame(src='https://oliverchao.shinyapps.io/shinytwo/', width=1000, height=500)"
   ]
  },
  {
   "cell_type": "markdown",
   "metadata": {},
   "source": [
    "* Covid-19 is less deadly than either SARS or Ebola but higher than H1N1.\n",
    "* Coronavirus has spread much more widely than SARS or Ebola. 186 countries/regions are influenced by coronavirus。\n",
    "* Compared to H1N1，Covid-19 is less influenced than it by now. However, considering its current trend (which mentioned in part 2), it is possible that coronavirus will continue expand to more places."
   ]
  },
  {
   "cell_type": "markdown",
   "metadata": {},
   "source": [
    "## 4. Genre. Which genre of data story did you use?\n",
    "\n",
    "Storytelling strategies vary among genre. Genre vary primarily in terms of; \n",
    ">* The distinct visual scenes, multiplexed in time and/or space that the number of frames contains. \n",
    ">* The order of visual elements.\n",
    "\n",
    "Genres are not mutually exclusive, they can function combining to produce more complex visual genres. different genres work better for different story types. Choosing the appropriate genre depends on a variety of factors, including the complexity of the data, the complexity of the story, the intended audience, and the intended medium.\n",
    "\n",
    "The genre of data story identified in the report is `Annotated Graph/Map` within the `Slide Show` format.\n",
    "There are other genre the report has been able to cover along with the help of precised data. The data story is initiated from the annotated pattern covering the slide in frames divided in certain time period as shown in the website.  "
   ]
  },
  {
   "cell_type": "markdown",
   "metadata": {},
   "source": [
    "* #### Which tools did you use from each of the 3 categories of _Visual Narrative_ (Figure 7 in Segal and Heer). Why?\n",
    "\n",
    "One of the design space dimensions is _Visual Narrative_ tactics. There is always some inevitable subjectivity when\n",
    "imposing a taxonomy over a diverse set of designs. While working on the report, _Visual Structuring_ & _Highlighting_ tools seems to be leveraged out of the categories of Visual Narrative tactics. \n",
    "\n",
    "> _Visual structuring_ refers to mechanisms that communicate the overall structure of the narrative to the viewer and allow him to identify his position within the larger organization of the visualization. \n",
    "\n",
    "Since the outcome of the narrative is oriented with respect to viewer, _Visual structuring_ design strategy helps viewer visualize the `consistent visual platform` and allow them to track progress through the visualization using `timeline slider` as in the World Map from website showing distinct characteristics at different timeline.  \n",
    "\n",
    "> _Highlighting_ refers to visual mechanisms that help direct the viewer’s attention to particular elements in the display.\n",
    "\n",
    "_Highlighting_ in the report is achieved through the `use of color`, `framing` & `sizing`, which augment the salience of an element relative to its surroundings.\n",
    "\n",
    "Following the round-about structure of the visual narrative, the viewer might be able to model the visualization to conceive the details-on-demand and acknowledge the patterns to view the information using the timeline slider as can be done in the map from the website."
   ]
  },
  {
   "cell_type": "markdown",
   "metadata": {},
   "source": [
    "* #### Which tools did you use from each of the 3 categories of _Narrative Structure_ (Figure 7 in Segal and Heer). Why?\n",
    "\n",
    "Another design space dimension is _Narrative Structure_ tactics, used by visualization, or non-visual mechanisms facilitates the narrative. This division is classified in three sections out of which _interactivity_ & _messaging_ genre constitutes the report in terms of the tools used. \n",
    "\n",
    "> _Interactivity_ refers to the different ways a user can manipulate the visualization like `filtering`, `selecting`, `searching`, `navigating` and also how the user learns the methods such as explicit instruction, tacit tutorial, initial configuration.\n",
    "\n",
    "_Interactivity_ is achieved in the report based on the custom options the viewer can leverage while visualizing any particular graph or a chart. For instance, it would be helpful for viewer to use a dropdown menu or a radio button specifying the cases/  deaths or recoveries with the help of time bar in order to check the status per country with respect to time period as illustrated in the website. \n",
    "\n",
    "> _Messaging_ refers to the ways a visualization communicates observations and commentary to the viewer. This might be achieved\n",
    "through short text fields such as `labels`, `captions`, `headlines`, `annotations` or more substantial descriptions like articles, introductions, summaries.\n",
    "\n",
    "_Messaging_ is another important tool when it comes to the _Narrative Structure_. The viewer is able to visualize and fetch relevant data from the labels and annotations while hovering certain plots. Brief introductions and summaries are although size consuming and tend to be lesser interactive but it contains viable information supporting and referring the plots. "
   ]
  },
  {
   "cell_type": "markdown",
   "metadata": {},
   "source": [
    "## 5. Visualizations.\n",
    "\n",
    "_Visualization_ is the graphic representation of data. It involves producing images that communicate relationships among the represented data to viewers of the images. This communication is achieved through the use of a systematic mapping between graphic marks and data values in the creation of the visualization. This mapping establishes how data values will be represented visually, determining how and to what extent a property of a graphic mark, such as size or color, will change to reflect changes in the value of a datum [Wiki](https://en.wikipedia.org/wiki/Data_visualization) "
   ]
  },
  {
   "cell_type": "markdown",
   "metadata": {},
   "source": [
    "* #### Explain the visualizations you've chosen.\n",
    "\n",
    "   1. The global Impact of Covid-19 (choropleth map)\n",
    ">* The global impact of Covid-19 is a world map in form of annotated genre, visualized in order to let viewer interpret and come across the count of `Cases`, `deaths` & `recoveries` with respect to all the countries around the Globe.\n",
    ">* The menu is briefly classified in 3 types; `confirmed cases`, `confirmed deaths` & `confirmed recoveries`.\n",
    ">* Each multi menu option like Cases, deaths & recoveries are featured in different set of colors such as `Blues`, `Reds` &` Greens` respectively.\n",
    ">* The classified menu is selected in terms of dropdown in the notebook and can be selected in terms of radio buttons while referring website.\n",
    ">* The attributes of the choropleth map from the notebook & website version has count stored accordingly with the country code and country plotted in a Geo-map and could be easily browsed once hovering the cursor. \n",
    ">* Another add-on pulled over in a website version of map employees the timeline slider in order to select and view the country data with respect to the time period.\n",
    "\n",
    "   2. Epidemic trend (Line Graph)\n",
    ">* Another version of data for cases & deaths with respect to specified countries is shown in the menu option of the website.\n",
    ">* The line graph is constructed in order to precisely review the pattern of the cases and deaths in the countries with respect to its timeline.\n",
    ">* The radio buttons are provided to feature a line chart with respect to `daily`, `cumulative` or `increase in percentage`.\n",
    ">* A timebar is provided for browsing the data pattern of cases or deaths in particular time period for a selected country.\n",
    ">* Cases are illustrated in reds where deaths are drawn in silver color for marking epidemic trend. \n",
    "\n",
    "   3. Outbreaks Comparisons (Bar Graph)\n",
    ">* The Bar chart is depicted comparing the trend previous major pandemics followed. The graph shows a toggle/radio buttons feature to jump upon `Death rate`, `Deaths`, `Cases` & `cumulative count of the countries affected`.  \n",
    ">* Each menu option illustrates a feature plot for _Diseases vs Amount_. The focused diseases are **SARS, H1N1, Ebola** and **Covid-19**.\n",
    ">* The visualization style for the bar graph is a basic annotated chart with count depicted for the diseases and brief comparison between the trend of the pandemic then and now.\n",
    "   "
   ]
  },
  {
   "cell_type": "markdown",
   "metadata": {},
   "source": [
    "* #### Why are they right for the story you want to tell?\n",
    "\n",
    "The motivation of the report revolves around the specifics of the Covid-19. The Global Impact is huge and has made a  tremendous difference across the World. The value, report is trying to create is by sharing the important aspect of showcasing the current and latest Global Impact .\n",
    "\n",
    ">* **The global impact of Covid-19** is used to visualize the count of Confirmed Cases, confirmed deaths & confirmed recoveries for distinct countries across the World.\n",
    ">* **Epidemic trend** is useful in terms to precisely rectify the hidden pattern, count of cases, deaths or deaths rate could return with respect to daily,cumulative and increase in percentage behaviour.\n",
    ">* **Outbreak comparison** is an essential tool being part of the report which can be used to analyse and depict the trend of the pandemics in past. Analysis from the website data such as  - _Covid-19 is less deadly than either SARS or Ebola but higher than H1N1_ can be formulated from the bar graph with existing data.  \n",
    "\n"
   ]
  },
  {
   "cell_type": "markdown",
   "metadata": {},
   "source": [
    "## 6. Discussion. Think critically about your creation\n",
    "\n",
    "* #### What went well?\n",
    "\n",
    " >* We overviewed the **_global impact of covid-19_** through our `anotated style` within `slide show` visulization.\n",
    " >* Based on our dataset, we analyzed how the _environmental factors affect the spread of the Covid-19, followed by a multilinear regression_. The statistic evidence tells that **temperature and humidity play an important role in the model**.\n",
    " >* The preliminary comparisons in form of outbreaks comparison among diseases was carried out to find more features of coronavirus model with respect to the previous trend of pandemics such as **SARS, H1N1 & Ebola**."
   ]
  },
  {
   "cell_type": "markdown",
   "metadata": {},
   "source": [
    "* #### What is still missing? What could be improved?, Why?\n",
    "\n",
    "Due to the limit of dataset availabity, some analysis were made based on small datasets, which could affect the result partially. To narrow down the bias of the analysis, many citations were used to prove our opionions.\n",
    "\n",
    "Further study might include below terms:\n",
    ">* A **logistic regression** can be made to figure out the probability of a man getting infected based on his `sex`,`age`,`medical history` or `living habits`. However, this study need a _plenty of data_ and advanced _machine learning_ methods.\n",
    "\n",
    ">* As for the environmental factor, a further study can be carried out to find out under which circumstance the virus is the least active."
   ]
  },
  {
   "cell_type": "markdown",
   "metadata": {},
   "source": [
    "## 7. Contributions. Who did what?\n",
    "\n",
    "* #### You should write (just briefly) which group member was the main responsible for which elements of the assignment. (I want you guys to understand every part of the assignment, but usually there is someone who took lead role on certain portions of the work. That's what you should explain).\n",
    "* #### It is not OK simply to write \"All group members contributed equally\"."
   ]
  },
  {
   "cell_type": "markdown",
   "metadata": {},
   "source": [
    "|Name|Project Distribution|\n",
    "|--|-------------------------------|\n",
    "|Chao Yu (s200079) |pandemic trend chart,webpage setup,environmental factor part, outbreak comprasion,explainer notebook(2,3)|\n",
    "|Prasad Jagtap (s200109) |geomap plot,explainer notebook(1,4,5,6),explainer notebook organization|\n",
    "| Nazer Hdaifeh (s192592)|risk factor part,explainer notebook(2,3)|"
   ]
  }
 ],
 "metadata": {
  "kernelspec": {
   "display_name": "Python 3",
   "language": "python",
   "name": "python3"
  },
  "language_info": {
   "codemirror_mode": {
    "name": "ipython",
    "version": 3
   },
   "file_extension": ".py",
   "mimetype": "text/x-python",
   "name": "python",
   "nbconvert_exporter": "python",
   "pygments_lexer": "ipython3",
   "version": "3.7.6"
  }
 },
 "nbformat": 4,
 "nbformat_minor": 2
}
